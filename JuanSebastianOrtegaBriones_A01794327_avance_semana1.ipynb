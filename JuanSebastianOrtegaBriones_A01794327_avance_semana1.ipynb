{
  "nbformat": 4,
  "nbformat_minor": 0,
  "metadata": {
    "colab": {
      "name": "assignment01.ipynb",
      "provenance": [],
      "include_colab_link": true
    },
    "kernelspec": {
      "name": "python3",
      "display_name": "Python 3"
    },
    "language_info": {
      "name": "python"
    }
  },
  "cells": [
    {
      "cell_type": "markdown",
      "metadata": {
        "id": "view-in-github",
        "colab_type": "text"
      },
      "source": [
        "<a href=\"https://colab.research.google.com/github/PosgradoMNA/actividades-de-aprendizaje-JSOrtegaB/blob/main/JuanSebastianOrtegaBriones_A01794327_avance_semana1.ipynb\" target=\"_parent\"><img src=\"https://colab.research.google.com/assets/colab-badge.svg\" alt=\"Open In Colab\"/></a>"
      ]
    },
    {
      "cell_type": "markdown",
      "source": [
        "Juan Sebastian Ortega Briones\n",
        "A01794327"
      ],
      "metadata": {
        "id": "OQYvE-J0UEYl"
      }
    },
    {
      "cell_type": "markdown",
      "source": [
        "Yo soy programador avanzado, le envie un correo a Maricarmen el Sabado para preguntarle como lo subia a guthub y me comento que con alguna evidencia, asi que subi solo el reporte de avance. Hoy ya no tengo timepo de sacar el certificado pero manana lo hago y subo el certificado, \n",
        "\n"
      ],
      "metadata": {
        "id": "hD-roadSVw-a"
      }
    },
    {
      "cell_type": "markdown",
      "source": [
        "anexo miestras tanto 2 archivos en github, uno con la evidencia del avance y el otro con el correo a Maricarmen"
      ],
      "metadata": {
        "id": "ivSttybUXyrw"
      }
    }
  ]
}