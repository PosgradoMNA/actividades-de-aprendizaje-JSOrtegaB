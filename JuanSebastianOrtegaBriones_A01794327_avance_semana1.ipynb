{
  "cells": [
    {
      "cell_type": "markdown",
      "metadata": {
        "colab_type": "text",
        "id": "view-in-github"
      },
      "source": [
        "<a href=\"https://colab.research.google.com/github/PosgradoMNA/actividades-de-aprendizaje-JSOrtegaB/blob/main/JuanSebastianOrtegaBriones_A01794327_avance_semana1.ipynb\" target=\"_parent\"><img src=\"https://colab.research.google.com/assets/colab-badge.svg\" alt=\"Open In Colab\"/></a>"
      ]
    },
    {
      "cell_type": "markdown",
      "metadata": {
        "id": "OQYvE-J0UEYl"
      },
      "source": [
        "Juan Sebastian Ortega Briones\n",
        "A01794327"
      ]
    },
    {
      "cell_type": "markdown",
      "metadata": {
        "id": "hD-roadSVw-a"
      },
      "source": [
        "Yo soy programador avanzado, le envie un correo a Maricarmen el Sabado para preguntarle como lo subia a guthub y me comento que con alguna evidencia, asi que subi solo el reporte de avance. Hoy ya no tengo timepo de sacar el certificado pero manana lo hago y subo el certificado, \n",
        "\n"
      ]
    },
    {
      "cell_type": "markdown",
      "metadata": {
        "id": "ivSttybUXyrw"
      },
      "source": [
        "anexo certificado"
      ]
    }
  ],
  "metadata": {
    "colab": {
      "include_colab_link": true,
      "name": "assignment01.ipynb",
      "provenance": []
    },
    "kernelspec": {
      "display_name": "Python 3.9.13 64-bit",
      "language": "python",
      "name": "python3"
    },
    "language_info": {
      "name": "python",
      "version": "3.9.13"
    },
    "vscode": {
      "interpreter": {
        "hash": "397704579725e15f5c7cb49fe5f0341eb7531c82d19f2c29d197e8b64ab5776b"
      }
    }
  },
  "nbformat": 4,
  "nbformat_minor": 0
}
