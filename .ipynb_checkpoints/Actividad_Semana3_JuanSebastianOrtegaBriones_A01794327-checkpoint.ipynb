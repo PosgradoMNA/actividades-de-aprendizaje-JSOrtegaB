{
 "cells": [
  {
   "cell_type": "markdown",
   "metadata": {
    "colab_type": "text",
    "id": "view-in-github"
   },
   "source": [
    "<a href=\"https://colab.research.google.com/github/PosgradoMNA/actividades-de-aprendizaje-JSOrtegaB/blob/main/Actividad_Semana3_JuanSebastianOrtegaBriones_A01794327.ipynb\" target=\"_parent\"><img src=\"https://colab.research.google.com/assets/colab-badge.svg\" alt=\"Open In Colab\"/></a>"
   ]
  },
  {
   "cell_type": "markdown",
   "metadata": {
    "id": "oFud5VyQ2hqP"
   },
   "source": [
    "# Actividad 1, Semana 3 \n",
    "\n",
    "## Ciencia y analítica de datos\n",
    "\n",
    "### Profesor:  Jobish Vallikavungal Devassia \n",
    "\n",
    "###Juan Sebastian Ortega Briones A01794327"
   ]
  },
  {
   "cell_type": "markdown",
   "metadata": {
    "id": "Bp7iN__ejLv4"
   },
   "source": [
    "# Parte 1: Fundamentos de bases de datos\n"
   ]
  },
  {
   "cell_type": "markdown",
   "metadata": {
    "id": "M4QGWmmajbIR"
   },
   "source": [
    "Revisa la página Lecturas del tema 3: Conceptos de almacenamiento y recuperación de información, y describe tus insights o entendimiento de cada uno de los subtemas: (Alrededor de 200 palabras)\n",
    "\n",
    "Fundamentos de bases de datos y para ciencia de datos.  \n",
    "Fundamentos de almacenes de datos (Data Warehouse) para ciencia de datos."
   ]
  },
  {
   "cell_type": "markdown",
   "metadata": {
    "id": "mNYebS2okUfd"
   },
   "source": [
    "### Fundamentos de bases de datos y para ciencia de datos.\n",
    "\n",
    "-Los fundamentos de las bases de datos y la ciencia de datos se centran en el almacenamiento, el procesamiento y el análisis de datos.\n",
    "-Las bases de datos se centran en el almacenamiento y el procesamiento de datos, mientras que la ciencia de datos se centra en el análisis de datos.\n",
    "\n",
    "El flujo de trabajo del científico de datos es: \n",
    "\n",
    "Definir el problema -> Recolectar los datos y prepararlos -> Desarrollar el modelo -> Desplegar el modelo -> mejorar el desempeño.\n",
    "\n",
    "La mayor parte del trabajo del científico de datos es limpiar y organizar la información.\n",
    "\n",
    "La terminología de las bases de datos es importante tenerla clara para poder explicar sin equivocaciones a que nos referimos.\n",
    "\n",
    "El científico de datos debe tener claridad de pensamiento y comunicación.\n",
    "\n",
    "Una base de datos es una colección de datos organizados y relacionados que modela un sistema del mundo real.\n",
    "\n",
    "Un DBMS (Database Management system), es usado para administrar el acceso a los usuarios de la base de datos.\n",
    "\n",
    "El DML o Lenguage de manipulación de datos o SQL Structure Query Langiuage son usados para consultar las bases de datos.\n",
    "\n",
    "\n",
    "### Fundamentos de almacenes de datos (Data Warehouse) para ciencia de datos.\n",
    "\n",
    "Un Data Warehouse es una colección en una sola ubicación de todos los datos relevantes para el análisis de una empresa. Los datos se agrupan de tal forma que pueden analizarse de forma eficiente para responder a las preguntas comerciales.\n"
   ]
  },
  {
   "cell_type": "markdown",
   "metadata": {
    "id": "LAF8gp-NjYA_"
   },
   "source": [
    "# Parte 2"
   ]
  },
  {
   "cell_type": "markdown",
   "metadata": {
    "id": "yYIVUsDS2WP4"
   },
   "source": [
    "Se importan las dependencias"
   ]
  },
  {
   "cell_type": "code",
   "execution_count": 31,
   "metadata": {
    "id": "dbK87pSftA_B"
   },
   "outputs": [],
   "source": [
    "import pandas as pd\n",
    "import numpy as np"
   ]
  },
  {
   "cell_type": "markdown",
   "metadata": {
    "id": "MmADoYG-4A4G"
   },
   "source": [
    "Se lee el archivo de datos"
   ]
  },
  {
   "cell_type": "code",
   "execution_count": 32,
   "metadata": {
    "id": "38AGFwJftKLn"
   },
   "outputs": [],
   "source": [
    "df=pd.read_csv(\"https://raw.githubusercontent.com/PosgradoMNA/Actividades_Aprendizaje-/main/default%20of%20credit%20card%20clients.csv\")"
   ]
  },
  {
   "cell_type": "markdown",
   "metadata": {
    "id": "FoAyMbC_x3vg"
   },
   "source": [
    "[Descripción de los datos](https://raw.githubusercontent.com/PosgradoMNA/Actividades_Aprendizaje-/main/dataset_info.txt)"
   ]
  },
  {
   "cell_type": "code",
   "execution_count": 33,
   "metadata": {
    "colab": {
     "base_uri": "https://localhost:8080/",
     "height": 207
    },
    "id": "Ujbc3XPEtRf9",
    "outputId": "919fd552-348a-4d63-af73-00092470a74d"
   },
   "outputs": [
    {
     "data": {
      "text/html": [
       "\n",
       "  <div id=\"df-142d26d5-722d-42f6-920d-c3ce0c39b1a5\">\n",
       "    <div class=\"colab-df-container\">\n",
       "      <div>\n",
       "<style scoped>\n",
       "    .dataframe tbody tr th:only-of-type {\n",
       "        vertical-align: middle;\n",
       "    }\n",
       "\n",
       "    .dataframe tbody tr th {\n",
       "        vertical-align: top;\n",
       "    }\n",
       "\n",
       "    .dataframe thead th {\n",
       "        text-align: right;\n",
       "    }\n",
       "</style>\n",
       "<table border=\"1\" class=\"dataframe\">\n",
       "  <thead>\n",
       "    <tr style=\"text-align: right;\">\n",
       "      <th></th>\n",
       "      <th>ID</th>\n",
       "      <th>X1</th>\n",
       "      <th>X2</th>\n",
       "      <th>X3</th>\n",
       "      <th>X4</th>\n",
       "      <th>X5</th>\n",
       "      <th>X6</th>\n",
       "      <th>X7</th>\n",
       "      <th>X8</th>\n",
       "      <th>X9</th>\n",
       "      <th>X10</th>\n",
       "      <th>X11</th>\n",
       "      <th>X12</th>\n",
       "      <th>X13</th>\n",
       "      <th>X14</th>\n",
       "      <th>X15</th>\n",
       "      <th>X16</th>\n",
       "      <th>X17</th>\n",
       "      <th>X18</th>\n",
       "      <th>X19</th>\n",
       "      <th>X20</th>\n",
       "      <th>X21</th>\n",
       "      <th>X22</th>\n",
       "      <th>X23</th>\n",
       "      <th>Y</th>\n",
       "    </tr>\n",
       "  </thead>\n",
       "  <tbody>\n",
       "    <tr>\n",
       "      <th>0</th>\n",
       "      <td>1</td>\n",
       "      <td>20000</td>\n",
       "      <td>2.0</td>\n",
       "      <td>2.0</td>\n",
       "      <td>1.0</td>\n",
       "      <td>24.0</td>\n",
       "      <td>2.0</td>\n",
       "      <td>2.0</td>\n",
       "      <td>-1.0</td>\n",
       "      <td>-1.0</td>\n",
       "      <td>-2.0</td>\n",
       "      <td>-2.0</td>\n",
       "      <td>3913.0</td>\n",
       "      <td>3102.0</td>\n",
       "      <td>689.0</td>\n",
       "      <td>0.0</td>\n",
       "      <td>0.0</td>\n",
       "      <td>0.0</td>\n",
       "      <td>0.0</td>\n",
       "      <td>689.0</td>\n",
       "      <td>0.0</td>\n",
       "      <td>0.0</td>\n",
       "      <td>0.0</td>\n",
       "      <td>0.0</td>\n",
       "      <td>1.0</td>\n",
       "    </tr>\n",
       "    <tr>\n",
       "      <th>1</th>\n",
       "      <td>2</td>\n",
       "      <td>120000</td>\n",
       "      <td>2.0</td>\n",
       "      <td>2.0</td>\n",
       "      <td>2.0</td>\n",
       "      <td>26.0</td>\n",
       "      <td>-1.0</td>\n",
       "      <td>2.0</td>\n",
       "      <td>0.0</td>\n",
       "      <td>0.0</td>\n",
       "      <td>0.0</td>\n",
       "      <td>2.0</td>\n",
       "      <td>2682.0</td>\n",
       "      <td>1725.0</td>\n",
       "      <td>2682.0</td>\n",
       "      <td>3272.0</td>\n",
       "      <td>3455.0</td>\n",
       "      <td>3261.0</td>\n",
       "      <td>0.0</td>\n",
       "      <td>1000.0</td>\n",
       "      <td>1000.0</td>\n",
       "      <td>1000.0</td>\n",
       "      <td>0.0</td>\n",
       "      <td>2000.0</td>\n",
       "      <td>1.0</td>\n",
       "    </tr>\n",
       "    <tr>\n",
       "      <th>2</th>\n",
       "      <td>3</td>\n",
       "      <td>90000</td>\n",
       "      <td>2.0</td>\n",
       "      <td>2.0</td>\n",
       "      <td>2.0</td>\n",
       "      <td>34.0</td>\n",
       "      <td>0.0</td>\n",
       "      <td>0.0</td>\n",
       "      <td>0.0</td>\n",
       "      <td>0.0</td>\n",
       "      <td>0.0</td>\n",
       "      <td>0.0</td>\n",
       "      <td>29239.0</td>\n",
       "      <td>14027.0</td>\n",
       "      <td>13559.0</td>\n",
       "      <td>14331.0</td>\n",
       "      <td>14948.0</td>\n",
       "      <td>15549.0</td>\n",
       "      <td>1518.0</td>\n",
       "      <td>1500.0</td>\n",
       "      <td>1000.0</td>\n",
       "      <td>1000.0</td>\n",
       "      <td>1000.0</td>\n",
       "      <td>5000.0</td>\n",
       "      <td>0.0</td>\n",
       "    </tr>\n",
       "  </tbody>\n",
       "</table>\n",
       "</div>\n",
       "      <button class=\"colab-df-convert\" onclick=\"convertToInteractive('df-142d26d5-722d-42f6-920d-c3ce0c39b1a5')\"\n",
       "              title=\"Convert this dataframe to an interactive table.\"\n",
       "              style=\"display:none;\">\n",
       "        \n",
       "  <svg xmlns=\"http://www.w3.org/2000/svg\" height=\"24px\"viewBox=\"0 0 24 24\"\n",
       "       width=\"24px\">\n",
       "    <path d=\"M0 0h24v24H0V0z\" fill=\"none\"/>\n",
       "    <path d=\"M18.56 5.44l.94 2.06.94-2.06 2.06-.94-2.06-.94-.94-2.06-.94 2.06-2.06.94zm-11 1L8.5 8.5l.94-2.06 2.06-.94-2.06-.94L8.5 2.5l-.94 2.06-2.06.94zm10 10l.94 2.06.94-2.06 2.06-.94-2.06-.94-.94-2.06-.94 2.06-2.06.94z\"/><path d=\"M17.41 7.96l-1.37-1.37c-.4-.4-.92-.59-1.43-.59-.52 0-1.04.2-1.43.59L10.3 9.45l-7.72 7.72c-.78.78-.78 2.05 0 2.83L4 21.41c.39.39.9.59 1.41.59.51 0 1.02-.2 1.41-.59l7.78-7.78 2.81-2.81c.8-.78.8-2.07 0-2.86zM5.41 20L4 18.59l7.72-7.72 1.47 1.35L5.41 20z\"/>\n",
       "  </svg>\n",
       "      </button>\n",
       "      \n",
       "  <style>\n",
       "    .colab-df-container {\n",
       "      display:flex;\n",
       "      flex-wrap:wrap;\n",
       "      gap: 12px;\n",
       "    }\n",
       "\n",
       "    .colab-df-convert {\n",
       "      background-color: #E8F0FE;\n",
       "      border: none;\n",
       "      border-radius: 50%;\n",
       "      cursor: pointer;\n",
       "      display: none;\n",
       "      fill: #1967D2;\n",
       "      height: 32px;\n",
       "      padding: 0 0 0 0;\n",
       "      width: 32px;\n",
       "    }\n",
       "\n",
       "    .colab-df-convert:hover {\n",
       "      background-color: #E2EBFA;\n",
       "      box-shadow: 0px 1px 2px rgba(60, 64, 67, 0.3), 0px 1px 3px 1px rgba(60, 64, 67, 0.15);\n",
       "      fill: #174EA6;\n",
       "    }\n",
       "\n",
       "    [theme=dark] .colab-df-convert {\n",
       "      background-color: #3B4455;\n",
       "      fill: #D2E3FC;\n",
       "    }\n",
       "\n",
       "    [theme=dark] .colab-df-convert:hover {\n",
       "      background-color: #434B5C;\n",
       "      box-shadow: 0px 1px 3px 1px rgba(0, 0, 0, 0.15);\n",
       "      filter: drop-shadow(0px 1px 2px rgba(0, 0, 0, 0.3));\n",
       "      fill: #FFFFFF;\n",
       "    }\n",
       "  </style>\n",
       "\n",
       "      <script>\n",
       "        const buttonEl =\n",
       "          document.querySelector('#df-142d26d5-722d-42f6-920d-c3ce0c39b1a5 button.colab-df-convert');\n",
       "        buttonEl.style.display =\n",
       "          google.colab.kernel.accessAllowed ? 'block' : 'none';\n",
       "\n",
       "        async function convertToInteractive(key) {\n",
       "          const element = document.querySelector('#df-142d26d5-722d-42f6-920d-c3ce0c39b1a5');\n",
       "          const dataTable =\n",
       "            await google.colab.kernel.invokeFunction('convertToInteractive',\n",
       "                                                     [key], {});\n",
       "          if (!dataTable) return;\n",
       "\n",
       "          const docLinkHtml = 'Like what you see? Visit the ' +\n",
       "            '<a target=\"_blank\" href=https://colab.research.google.com/notebooks/data_table.ipynb>data table notebook</a>'\n",
       "            + ' to learn more about interactive tables.';\n",
       "          element.innerHTML = '';\n",
       "          dataTable['output_type'] = 'display_data';\n",
       "          await google.colab.output.renderOutput(dataTable, element);\n",
       "          const docLink = document.createElement('div');\n",
       "          docLink.innerHTML = docLinkHtml;\n",
       "          element.appendChild(docLink);\n",
       "        }\n",
       "      </script>\n",
       "    </div>\n",
       "  </div>\n",
       "  "
      ],
      "text/plain": [
       "   ID      X1   X2   X3   X4    X5   X6   X7   X8   X9  X10  X11      X12  \\\n",
       "0   1   20000  2.0  2.0  1.0  24.0  2.0  2.0 -1.0 -1.0 -2.0 -2.0   3913.0   \n",
       "1   2  120000  2.0  2.0  2.0  26.0 -1.0  2.0  0.0  0.0  0.0  2.0   2682.0   \n",
       "2   3   90000  2.0  2.0  2.0  34.0  0.0  0.0  0.0  0.0  0.0  0.0  29239.0   \n",
       "\n",
       "       X13      X14      X15      X16      X17     X18     X19     X20  \\\n",
       "0   3102.0    689.0      0.0      0.0      0.0     0.0   689.0     0.0   \n",
       "1   1725.0   2682.0   3272.0   3455.0   3261.0     0.0  1000.0  1000.0   \n",
       "2  14027.0  13559.0  14331.0  14948.0  15549.0  1518.0  1500.0  1000.0   \n",
       "\n",
       "      X21     X22     X23    Y  \n",
       "0     0.0     0.0     0.0  1.0  \n",
       "1  1000.0     0.0  2000.0  1.0  \n",
       "2  1000.0  1000.0  5000.0  0.0  "
      ]
     },
     "execution_count": 33,
     "metadata": {},
     "output_type": "execute_result"
    }
   ],
   "source": [
    "pd.set_option(\"display.max_columns\", 25)\n",
    "df.head(3)"
   ]
  },
  {
   "cell_type": "markdown",
   "metadata": {
    "id": "mGjYzr0Hjnjt"
   },
   "source": [
    "Informacion básica"
   ]
  },
  {
   "cell_type": "code",
   "execution_count": 34,
   "metadata": {
    "colab": {
     "base_uri": "https://localhost:8080/",
     "height": 364
    },
    "id": "t9LivC2MjuoT",
    "outputId": "1608cc51-19ee-4668-c099-ba0339eaef54"
   },
   "outputs": [
    {
     "data": {
      "text/html": [
       "\n",
       "  <div id=\"df-098e8bc3-de06-4b65-82cd-4720cd6decb9\">\n",
       "    <div class=\"colab-df-container\">\n",
       "      <div>\n",
       "<style scoped>\n",
       "    .dataframe tbody tr th:only-of-type {\n",
       "        vertical-align: middle;\n",
       "    }\n",
       "\n",
       "    .dataframe tbody tr th {\n",
       "        vertical-align: top;\n",
       "    }\n",
       "\n",
       "    .dataframe thead th {\n",
       "        text-align: right;\n",
       "    }\n",
       "</style>\n",
       "<table border=\"1\" class=\"dataframe\">\n",
       "  <thead>\n",
       "    <tr style=\"text-align: right;\">\n",
       "      <th></th>\n",
       "      <th>ID</th>\n",
       "      <th>X1</th>\n",
       "      <th>X2</th>\n",
       "      <th>X3</th>\n",
       "      <th>X4</th>\n",
       "      <th>X5</th>\n",
       "      <th>X6</th>\n",
       "      <th>X7</th>\n",
       "      <th>X8</th>\n",
       "      <th>X9</th>\n",
       "      <th>X10</th>\n",
       "      <th>X11</th>\n",
       "      <th>X12</th>\n",
       "      <th>X13</th>\n",
       "      <th>X14</th>\n",
       "      <th>X15</th>\n",
       "      <th>X16</th>\n",
       "      <th>X17</th>\n",
       "      <th>X18</th>\n",
       "      <th>X19</th>\n",
       "      <th>X20</th>\n",
       "      <th>X21</th>\n",
       "      <th>X22</th>\n",
       "      <th>X23</th>\n",
       "      <th>Y</th>\n",
       "    </tr>\n",
       "  </thead>\n",
       "  <tbody>\n",
       "    <tr>\n",
       "      <th>count</th>\n",
       "      <td>30000.000000</td>\n",
       "      <td>30000.000000</td>\n",
       "      <td>29999.000000</td>\n",
       "      <td>29998.000000</td>\n",
       "      <td>29998.000000</td>\n",
       "      <td>29995.000000</td>\n",
       "      <td>29997.000000</td>\n",
       "      <td>29995.000000</td>\n",
       "      <td>29993.000000</td>\n",
       "      <td>29991.000000</td>\n",
       "      <td>29984.000000</td>\n",
       "      <td>29986.000000</td>\n",
       "      <td>29989.000000</td>\n",
       "      <td>29989.000000</td>\n",
       "      <td>2.998700e+04</td>\n",
       "      <td>29985.000000</td>\n",
       "      <td>29983.000000</td>\n",
       "      <td>29990.000000</td>\n",
       "      <td>29992.000000</td>\n",
       "      <td>2.999100e+04</td>\n",
       "      <td>29992.000000</td>\n",
       "      <td>29989.000000</td>\n",
       "      <td>29989.000000</td>\n",
       "      <td>29995.000000</td>\n",
       "      <td>29997.000000</td>\n",
       "    </tr>\n",
       "    <tr>\n",
       "      <th>mean</th>\n",
       "      <td>15000.500000</td>\n",
       "      <td>167484.322667</td>\n",
       "      <td>1.603753</td>\n",
       "      <td>1.853057</td>\n",
       "      <td>1.551903</td>\n",
       "      <td>35.484214</td>\n",
       "      <td>-0.016635</td>\n",
       "      <td>-0.133689</td>\n",
       "      <td>-0.166405</td>\n",
       "      <td>-0.220800</td>\n",
       "      <td>-0.266342</td>\n",
       "      <td>-0.291136</td>\n",
       "      <td>51236.862750</td>\n",
       "      <td>49190.734669</td>\n",
       "      <td>4.702535e+04</td>\n",
       "      <td>43275.652326</td>\n",
       "      <td>40324.493980</td>\n",
       "      <td>38881.135745</td>\n",
       "      <td>5662.945886</td>\n",
       "      <td>5.922489e+03</td>\n",
       "      <td>5225.623400</td>\n",
       "      <td>4827.252526</td>\n",
       "      <td>4800.297209</td>\n",
       "      <td>5216.259977</td>\n",
       "      <td>0.221189</td>\n",
       "    </tr>\n",
       "    <tr>\n",
       "      <th>std</th>\n",
       "      <td>8660.398374</td>\n",
       "      <td>129747.661567</td>\n",
       "      <td>0.489125</td>\n",
       "      <td>0.790320</td>\n",
       "      <td>0.521968</td>\n",
       "      <td>9.218024</td>\n",
       "      <td>1.123829</td>\n",
       "      <td>1.197254</td>\n",
       "      <td>1.196048</td>\n",
       "      <td>1.169153</td>\n",
       "      <td>1.133296</td>\n",
       "      <td>1.150134</td>\n",
       "      <td>73645.219278</td>\n",
       "      <td>71183.385123</td>\n",
       "      <td>6.936086e+04</td>\n",
       "      <td>64345.500073</td>\n",
       "      <td>60809.984983</td>\n",
       "      <td>59561.312967</td>\n",
       "      <td>16564.165089</td>\n",
       "      <td>2.304418e+04</td>\n",
       "      <td>17608.422625</td>\n",
       "      <td>15668.751975</td>\n",
       "      <td>15280.842069</td>\n",
       "      <td>17778.848359</td>\n",
       "      <td>0.415054</td>\n",
       "    </tr>\n",
       "    <tr>\n",
       "      <th>min</th>\n",
       "      <td>1.000000</td>\n",
       "      <td>10000.000000</td>\n",
       "      <td>1.000000</td>\n",
       "      <td>0.000000</td>\n",
       "      <td>0.000000</td>\n",
       "      <td>21.000000</td>\n",
       "      <td>-2.000000</td>\n",
       "      <td>-2.000000</td>\n",
       "      <td>-2.000000</td>\n",
       "      <td>-2.000000</td>\n",
       "      <td>-2.000000</td>\n",
       "      <td>-2.000000</td>\n",
       "      <td>-165580.000000</td>\n",
       "      <td>-69777.000000</td>\n",
       "      <td>-1.572640e+05</td>\n",
       "      <td>-170000.000000</td>\n",
       "      <td>-81334.000000</td>\n",
       "      <td>-339603.000000</td>\n",
       "      <td>0.000000</td>\n",
       "      <td>0.000000e+00</td>\n",
       "      <td>0.000000</td>\n",
       "      <td>0.000000</td>\n",
       "      <td>0.000000</td>\n",
       "      <td>0.000000</td>\n",
       "      <td>0.000000</td>\n",
       "    </tr>\n",
       "    <tr>\n",
       "      <th>25%</th>\n",
       "      <td>7500.750000</td>\n",
       "      <td>50000.000000</td>\n",
       "      <td>1.000000</td>\n",
       "      <td>1.000000</td>\n",
       "      <td>1.000000</td>\n",
       "      <td>28.000000</td>\n",
       "      <td>-1.000000</td>\n",
       "      <td>-1.000000</td>\n",
       "      <td>-1.000000</td>\n",
       "      <td>-1.000000</td>\n",
       "      <td>-1.000000</td>\n",
       "      <td>-1.000000</td>\n",
       "      <td>3565.000000</td>\n",
       "      <td>2986.000000</td>\n",
       "      <td>2.667500e+03</td>\n",
       "      <td>2329.000000</td>\n",
       "      <td>1763.500000</td>\n",
       "      <td>1256.250000</td>\n",
       "      <td>1000.000000</td>\n",
       "      <td>8.355000e+02</td>\n",
       "      <td>390.000000</td>\n",
       "      <td>296.000000</td>\n",
       "      <td>251.000000</td>\n",
       "      <td>118.000000</td>\n",
       "      <td>0.000000</td>\n",
       "    </tr>\n",
       "    <tr>\n",
       "      <th>50%</th>\n",
       "      <td>15000.500000</td>\n",
       "      <td>140000.000000</td>\n",
       "      <td>2.000000</td>\n",
       "      <td>2.000000</td>\n",
       "      <td>2.000000</td>\n",
       "      <td>34.000000</td>\n",
       "      <td>0.000000</td>\n",
       "      <td>0.000000</td>\n",
       "      <td>0.000000</td>\n",
       "      <td>0.000000</td>\n",
       "      <td>0.000000</td>\n",
       "      <td>0.000000</td>\n",
       "      <td>22387.000000</td>\n",
       "      <td>21207.000000</td>\n",
       "      <td>2.008900e+04</td>\n",
       "      <td>19052.000000</td>\n",
       "      <td>18107.000000</td>\n",
       "      <td>17081.000000</td>\n",
       "      <td>2100.000000</td>\n",
       "      <td>2.009000e+03</td>\n",
       "      <td>1800.000000</td>\n",
       "      <td>1500.000000</td>\n",
       "      <td>1500.000000</td>\n",
       "      <td>1500.000000</td>\n",
       "      <td>0.000000</td>\n",
       "    </tr>\n",
       "    <tr>\n",
       "      <th>75%</th>\n",
       "      <td>22500.250000</td>\n",
       "      <td>240000.000000</td>\n",
       "      <td>2.000000</td>\n",
       "      <td>2.000000</td>\n",
       "      <td>2.000000</td>\n",
       "      <td>41.000000</td>\n",
       "      <td>0.000000</td>\n",
       "      <td>0.000000</td>\n",
       "      <td>0.000000</td>\n",
       "      <td>0.000000</td>\n",
       "      <td>0.000000</td>\n",
       "      <td>0.000000</td>\n",
       "      <td>67139.000000</td>\n",
       "      <td>64027.000000</td>\n",
       "      <td>6.018200e+04</td>\n",
       "      <td>54560.000000</td>\n",
       "      <td>50213.000000</td>\n",
       "      <td>49208.250000</td>\n",
       "      <td>5006.000000</td>\n",
       "      <td>5.000000e+03</td>\n",
       "      <td>4505.500000</td>\n",
       "      <td>4014.000000</td>\n",
       "      <td>4033.000000</td>\n",
       "      <td>4000.000000</td>\n",
       "      <td>0.000000</td>\n",
       "    </tr>\n",
       "    <tr>\n",
       "      <th>max</th>\n",
       "      <td>30000.000000</td>\n",
       "      <td>1000000.000000</td>\n",
       "      <td>2.000000</td>\n",
       "      <td>6.000000</td>\n",
       "      <td>3.000000</td>\n",
       "      <td>79.000000</td>\n",
       "      <td>8.000000</td>\n",
       "      <td>8.000000</td>\n",
       "      <td>8.000000</td>\n",
       "      <td>8.000000</td>\n",
       "      <td>8.000000</td>\n",
       "      <td>8.000000</td>\n",
       "      <td>964511.000000</td>\n",
       "      <td>983931.000000</td>\n",
       "      <td>1.664089e+06</td>\n",
       "      <td>891586.000000</td>\n",
       "      <td>927171.000000</td>\n",
       "      <td>961664.000000</td>\n",
       "      <td>873552.000000</td>\n",
       "      <td>1.684259e+06</td>\n",
       "      <td>896040.000000</td>\n",
       "      <td>621000.000000</td>\n",
       "      <td>426529.000000</td>\n",
       "      <td>528666.000000</td>\n",
       "      <td>1.000000</td>\n",
       "    </tr>\n",
       "  </tbody>\n",
       "</table>\n",
       "</div>\n",
       "      <button class=\"colab-df-convert\" onclick=\"convertToInteractive('df-098e8bc3-de06-4b65-82cd-4720cd6decb9')\"\n",
       "              title=\"Convert this dataframe to an interactive table.\"\n",
       "              style=\"display:none;\">\n",
       "        \n",
       "  <svg xmlns=\"http://www.w3.org/2000/svg\" height=\"24px\"viewBox=\"0 0 24 24\"\n",
       "       width=\"24px\">\n",
       "    <path d=\"M0 0h24v24H0V0z\" fill=\"none\"/>\n",
       "    <path d=\"M18.56 5.44l.94 2.06.94-2.06 2.06-.94-2.06-.94-.94-2.06-.94 2.06-2.06.94zm-11 1L8.5 8.5l.94-2.06 2.06-.94-2.06-.94L8.5 2.5l-.94 2.06-2.06.94zm10 10l.94 2.06.94-2.06 2.06-.94-2.06-.94-.94-2.06-.94 2.06-2.06.94z\"/><path d=\"M17.41 7.96l-1.37-1.37c-.4-.4-.92-.59-1.43-.59-.52 0-1.04.2-1.43.59L10.3 9.45l-7.72 7.72c-.78.78-.78 2.05 0 2.83L4 21.41c.39.39.9.59 1.41.59.51 0 1.02-.2 1.41-.59l7.78-7.78 2.81-2.81c.8-.78.8-2.07 0-2.86zM5.41 20L4 18.59l7.72-7.72 1.47 1.35L5.41 20z\"/>\n",
       "  </svg>\n",
       "      </button>\n",
       "      \n",
       "  <style>\n",
       "    .colab-df-container {\n",
       "      display:flex;\n",
       "      flex-wrap:wrap;\n",
       "      gap: 12px;\n",
       "    }\n",
       "\n",
       "    .colab-df-convert {\n",
       "      background-color: #E8F0FE;\n",
       "      border: none;\n",
       "      border-radius: 50%;\n",
       "      cursor: pointer;\n",
       "      display: none;\n",
       "      fill: #1967D2;\n",
       "      height: 32px;\n",
       "      padding: 0 0 0 0;\n",
       "      width: 32px;\n",
       "    }\n",
       "\n",
       "    .colab-df-convert:hover {\n",
       "      background-color: #E2EBFA;\n",
       "      box-shadow: 0px 1px 2px rgba(60, 64, 67, 0.3), 0px 1px 3px 1px rgba(60, 64, 67, 0.15);\n",
       "      fill: #174EA6;\n",
       "    }\n",
       "\n",
       "    [theme=dark] .colab-df-convert {\n",
       "      background-color: #3B4455;\n",
       "      fill: #D2E3FC;\n",
       "    }\n",
       "\n",
       "    [theme=dark] .colab-df-convert:hover {\n",
       "      background-color: #434B5C;\n",
       "      box-shadow: 0px 1px 3px 1px rgba(0, 0, 0, 0.15);\n",
       "      filter: drop-shadow(0px 1px 2px rgba(0, 0, 0, 0.3));\n",
       "      fill: #FFFFFF;\n",
       "    }\n",
       "  </style>\n",
       "\n",
       "      <script>\n",
       "        const buttonEl =\n",
       "          document.querySelector('#df-098e8bc3-de06-4b65-82cd-4720cd6decb9 button.colab-df-convert');\n",
       "        buttonEl.style.display =\n",
       "          google.colab.kernel.accessAllowed ? 'block' : 'none';\n",
       "\n",
       "        async function convertToInteractive(key) {\n",
       "          const element = document.querySelector('#df-098e8bc3-de06-4b65-82cd-4720cd6decb9');\n",
       "          const dataTable =\n",
       "            await google.colab.kernel.invokeFunction('convertToInteractive',\n",
       "                                                     [key], {});\n",
       "          if (!dataTable) return;\n",
       "\n",
       "          const docLinkHtml = 'Like what you see? Visit the ' +\n",
       "            '<a target=\"_blank\" href=https://colab.research.google.com/notebooks/data_table.ipynb>data table notebook</a>'\n",
       "            + ' to learn more about interactive tables.';\n",
       "          element.innerHTML = '';\n",
       "          dataTable['output_type'] = 'display_data';\n",
       "          await google.colab.output.renderOutput(dataTable, element);\n",
       "          const docLink = document.createElement('div');\n",
       "          docLink.innerHTML = docLinkHtml;\n",
       "          element.appendChild(docLink);\n",
       "        }\n",
       "      </script>\n",
       "    </div>\n",
       "  </div>\n",
       "  "
      ],
      "text/plain": [
       "                 ID              X1            X2            X3            X4  \\\n",
       "count  30000.000000    30000.000000  29999.000000  29998.000000  29998.000000   \n",
       "mean   15000.500000   167484.322667      1.603753      1.853057      1.551903   \n",
       "std     8660.398374   129747.661567      0.489125      0.790320      0.521968   \n",
       "min        1.000000    10000.000000      1.000000      0.000000      0.000000   \n",
       "25%     7500.750000    50000.000000      1.000000      1.000000      1.000000   \n",
       "50%    15000.500000   140000.000000      2.000000      2.000000      2.000000   \n",
       "75%    22500.250000   240000.000000      2.000000      2.000000      2.000000   \n",
       "max    30000.000000  1000000.000000      2.000000      6.000000      3.000000   \n",
       "\n",
       "                 X5            X6            X7            X8            X9  \\\n",
       "count  29995.000000  29997.000000  29995.000000  29993.000000  29991.000000   \n",
       "mean      35.484214     -0.016635     -0.133689     -0.166405     -0.220800   \n",
       "std        9.218024      1.123829      1.197254      1.196048      1.169153   \n",
       "min       21.000000     -2.000000     -2.000000     -2.000000     -2.000000   \n",
       "25%       28.000000     -1.000000     -1.000000     -1.000000     -1.000000   \n",
       "50%       34.000000      0.000000      0.000000      0.000000      0.000000   \n",
       "75%       41.000000      0.000000      0.000000      0.000000      0.000000   \n",
       "max       79.000000      8.000000      8.000000      8.000000      8.000000   \n",
       "\n",
       "                X10           X11            X12            X13           X14  \\\n",
       "count  29984.000000  29986.000000   29989.000000   29989.000000  2.998700e+04   \n",
       "mean      -0.266342     -0.291136   51236.862750   49190.734669  4.702535e+04   \n",
       "std        1.133296      1.150134   73645.219278   71183.385123  6.936086e+04   \n",
       "min       -2.000000     -2.000000 -165580.000000  -69777.000000 -1.572640e+05   \n",
       "25%       -1.000000     -1.000000    3565.000000    2986.000000  2.667500e+03   \n",
       "50%        0.000000      0.000000   22387.000000   21207.000000  2.008900e+04   \n",
       "75%        0.000000      0.000000   67139.000000   64027.000000  6.018200e+04   \n",
       "max        8.000000      8.000000  964511.000000  983931.000000  1.664089e+06   \n",
       "\n",
       "                 X15            X16            X17            X18  \\\n",
       "count   29985.000000   29983.000000   29990.000000   29992.000000   \n",
       "mean    43275.652326   40324.493980   38881.135745    5662.945886   \n",
       "std     64345.500073   60809.984983   59561.312967   16564.165089   \n",
       "min   -170000.000000  -81334.000000 -339603.000000       0.000000   \n",
       "25%      2329.000000    1763.500000    1256.250000    1000.000000   \n",
       "50%     19052.000000   18107.000000   17081.000000    2100.000000   \n",
       "75%     54560.000000   50213.000000   49208.250000    5006.000000   \n",
       "max    891586.000000  927171.000000  961664.000000  873552.000000   \n",
       "\n",
       "                X19            X20            X21            X22  \\\n",
       "count  2.999100e+04   29992.000000   29989.000000   29989.000000   \n",
       "mean   5.922489e+03    5225.623400    4827.252526    4800.297209   \n",
       "std    2.304418e+04   17608.422625   15668.751975   15280.842069   \n",
       "min    0.000000e+00       0.000000       0.000000       0.000000   \n",
       "25%    8.355000e+02     390.000000     296.000000     251.000000   \n",
       "50%    2.009000e+03    1800.000000    1500.000000    1500.000000   \n",
       "75%    5.000000e+03    4505.500000    4014.000000    4033.000000   \n",
       "max    1.684259e+06  896040.000000  621000.000000  426529.000000   \n",
       "\n",
       "                 X23             Y  \n",
       "count   29995.000000  29997.000000  \n",
       "mean     5216.259977      0.221189  \n",
       "std     17778.848359      0.415054  \n",
       "min         0.000000      0.000000  \n",
       "25%       118.000000      0.000000  \n",
       "50%      1500.000000      0.000000  \n",
       "75%      4000.000000      0.000000  \n",
       "max    528666.000000      1.000000  "
      ]
     },
     "execution_count": 34,
     "metadata": {},
     "output_type": "execute_result"
    }
   ],
   "source": [
    "df.describe()"
   ]
  },
  {
   "cell_type": "markdown",
   "metadata": {
    "id": "gVpcIJzt2NDv"
   },
   "source": [
    "Faltan datos?"
   ]
  },
  {
   "cell_type": "code",
   "execution_count": 35,
   "metadata": {
    "colab": {
     "base_uri": "https://localhost:8080/"
    },
    "id": "X7lgiR5RtTI4",
    "outputId": "7ee95d53-887c-4b3f-baf3-f0e96b702721"
   },
   "outputs": [
    {
     "data": {
      "text/plain": [
       "ID     False\n",
       "X1     False\n",
       "X2      True\n",
       "X3      True\n",
       "X4      True\n",
       "X5      True\n",
       "X6      True\n",
       "X7      True\n",
       "X8      True\n",
       "X9      True\n",
       "X10     True\n",
       "X11     True\n",
       "X12     True\n",
       "X13     True\n",
       "X14     True\n",
       "X15     True\n",
       "X16     True\n",
       "X17     True\n",
       "X18     True\n",
       "X19     True\n",
       "X20     True\n",
       "X21     True\n",
       "X22     True\n",
       "X23     True\n",
       "Y       True\n",
       "dtype: bool"
      ]
     },
     "execution_count": 35,
     "metadata": {},
     "output_type": "execute_result"
    }
   ],
   "source": [
    "df.isnull().any()"
   ]
  },
  {
   "cell_type": "code",
   "execution_count": 36,
   "metadata": {
    "colab": {
     "base_uri": "https://localhost:8080/"
    },
    "id": "1DjOs6GJ4gvt",
    "outputId": "e0302766-117b-4a37-b56a-711a29a90726"
   },
   "outputs": [
    {
     "data": {
      "text/plain": [
       "True"
      ]
     },
     "execution_count": 36,
     "metadata": {},
     "output_type": "execute_result"
    }
   ],
   "source": [
    "df.isnull().values.any()"
   ]
  },
  {
   "cell_type": "markdown",
   "metadata": {
    "id": "RKIqZ5Su2JC3"
   },
   "source": [
    "# Mi propuesta"
   ]
  },
  {
   "cell_type": "markdown",
   "metadata": {
    "id": "ek2WtZuhnTf1"
   },
   "source": [
    "### Con base en la descripcion de los datos esta es mi estrategia:\n",
    "\n",
    "ID: No hacer nada\n",
    "\n",
    "X1: No hacer nada\n",
    "\n",
    "X2: Si falta el genero sustituirlo por el mas frecuente\n",
    "\n",
    "X3: Si falta educación sustituirlo por el promedio redondeado\n",
    "\n",
    "X4: Si falta estado civil sustituirlo por el mas frecuente\n",
    "\n",
    "X5: Si falta edad sustituirla con el promedio\n",
    "\n",
    "X6-X11:  Si no hay más de 3 datos eliminar el registro\n",
    "\n",
    "X12-X17: Si no hay más de 3 datos eliminar el registro \n",
    "\n",
    "X18-X23: Si no hay más de 3 datos eliminar el registro \n",
    "\n",
    "Y:       No hacer nada\n",
    "\n"
   ]
  },
  {
   "cell_type": "markdown",
   "metadata": {
    "id": "fiIs7Y6Owh9u"
   },
   "source": [
    "## X2"
   ]
  },
  {
   "cell_type": "markdown",
   "metadata": {
    "id": "rFh9hz95svGH"
   },
   "source": [
    "El mas frecuente de X2:"
   ]
  },
  {
   "cell_type": "code",
   "execution_count": 37,
   "metadata": {
    "id": "PrXeP9aSoeg0"
   },
   "outputs": [],
   "source": [
    "x2_frec=pd.DataFrame(df.X2.value_counts()).index[0]"
   ]
  },
  {
   "cell_type": "markdown",
   "metadata": {
    "id": "yShuASkus3zY"
   },
   "source": [
    "¿Cunatos registros no tienen información de género?"
   ]
  },
  {
   "cell_type": "code",
   "execution_count": 38,
   "metadata": {
    "colab": {
     "base_uri": "https://localhost:8080/"
    },
    "id": "VXfEFkyIth58",
    "outputId": "6eaf1c73-c9e5-41c1-9972-7f0832b90935"
   },
   "outputs": [
    {
     "data": {
      "text/plain": [
       "False    29999\n",
       "True         1\n",
       "Name: X2, dtype: int64"
      ]
     },
     "execution_count": 38,
     "metadata": {},
     "output_type": "execute_result"
    }
   ],
   "source": [
    "df['X2'].isnull().value_counts()"
   ]
  },
  {
   "cell_type": "markdown",
   "metadata": {
    "id": "AMlB8mhRuQGQ"
   },
   "source": [
    "Sustituye los campos de género faltantes por el mas frecuente"
   ]
  },
  {
   "cell_type": "code",
   "execution_count": 39,
   "metadata": {
    "colab": {
     "base_uri": "https://localhost:8080/"
    },
    "id": "8ZFKT8MitGpk",
    "outputId": "cf1d9411-3b4f-4263-a1e0-fc9f5c7d1b2a"
   },
   "outputs": [
    {
     "data": {
      "text/plain": [
       "False    30000\n",
       "Name: X2, dtype: int64"
      ]
     },
     "execution_count": 39,
     "metadata": {},
     "output_type": "execute_result"
    }
   ],
   "source": [
    "\n",
    "df['X2'].fillna(value=x2_frec, inplace=True)          #remplaza los nulos de la columana de sexo por la mas frecuente de la columna\n",
    "df['X2'].isnull().value_counts()                      #muestra las columnas cambiadas"
   ]
  },
  {
   "cell_type": "markdown",
   "metadata": {
    "id": "ZagF-LWvwtkd"
   },
   "source": [
    "## X3"
   ]
  },
  {
   "cell_type": "markdown",
   "metadata": {
    "id": "0rF6QEh-uzWv"
   },
   "source": [
    "Número de registros que no tienen infomación de la educación"
   ]
  },
  {
   "cell_type": "code",
   "execution_count": 40,
   "metadata": {
    "colab": {
     "base_uri": "https://localhost:8080/"
    },
    "id": "z8z1PE6ivDnj",
    "outputId": "a36cdca6-d76d-4e2f-b3f7-b8581c4b1da3"
   },
   "outputs": [
    {
     "data": {
      "text/plain": [
       "False    29998\n",
       "True         2\n",
       "Name: X3, dtype: int64"
      ]
     },
     "execution_count": 40,
     "metadata": {},
     "output_type": "execute_result"
    }
   ],
   "source": [
    "df['X3'].isnull().value_counts()"
   ]
  },
  {
   "cell_type": "markdown",
   "metadata": {
    "id": "NaWbmzI6u23Z"
   },
   "source": [
    "Promedio de educación"
   ]
  },
  {
   "cell_type": "code",
   "execution_count": 41,
   "metadata": {
    "colab": {
     "base_uri": "https://localhost:8080/"
    },
    "id": "fydFErpcvcul",
    "outputId": "a74b1b78-f18e-428d-f7bf-d1c4a41ed369"
   },
   "outputs": [
    {
     "data": {
      "text/plain": [
       "2.0"
      ]
     },
     "execution_count": 41,
     "metadata": {},
     "output_type": "execute_result"
    }
   ],
   "source": [
    "x3_mean=df.X3.mean().round()                          #Promedio redondeado de la educación\n",
    "x3_mean"
   ]
  },
  {
   "cell_type": "markdown",
   "metadata": {
    "id": "HheEnDeUu20r"
   },
   "source": [
    "Sustituye los campos de educación faltantes por el promedio redondeado"
   ]
  },
  {
   "cell_type": "code",
   "execution_count": 42,
   "metadata": {
    "colab": {
     "base_uri": "https://localhost:8080/"
    },
    "id": "yaLLZfIdwIWZ",
    "outputId": "6175e746-f2f5-4dd2-d7ff-3e832b67619e"
   },
   "outputs": [
    {
     "data": {
      "text/plain": [
       "False    30000\n",
       "Name: X2, dtype: int64"
      ]
     },
     "execution_count": 42,
     "metadata": {},
     "output_type": "execute_result"
    }
   ],
   "source": [
    "df['X3'].fillna(value=x3_mean, inplace=True)          #remplaza los nulos de la columana de educación por el promedio redondeado\n",
    "df['X2'].isnull().value_counts()                      #muestra las columnas cambiadas"
   ]
  },
  {
   "cell_type": "markdown",
   "metadata": {
    "id": "YzCs7ZH9u2yK"
   },
   "source": [
    "## X4"
   ]
  },
  {
   "cell_type": "markdown",
   "metadata": {
    "id": "ntrTsKoOu2vW"
   },
   "source": [
    "Número de registros que no tienen infomación de la estado civíl"
   ]
  },
  {
   "cell_type": "code",
   "execution_count": 43,
   "metadata": {
    "colab": {
     "base_uri": "https://localhost:8080/"
    },
    "id": "CApInsYexQLz",
    "outputId": "18fd8aac-20ed-4293-f7ca-8f20dca269ef"
   },
   "outputs": [
    {
     "data": {
      "text/plain": [
       "False    29998\n",
       "True         2\n",
       "Name: X4, dtype: int64"
      ]
     },
     "execution_count": 43,
     "metadata": {},
     "output_type": "execute_result"
    }
   ],
   "source": [
    "df['X4'].isnull().value_counts()"
   ]
  },
  {
   "cell_type": "markdown",
   "metadata": {
    "id": "YjJRZ5Lsu2s9"
   },
   "source": [
    "El mas frecuente del X4"
   ]
  },
  {
   "cell_type": "code",
   "execution_count": 44,
   "metadata": {
    "colab": {
     "base_uri": "https://localhost:8080/"
    },
    "id": "NEjluPjOxbrg",
    "outputId": "c206042f-33d2-4ef8-a7ae-5e16983e4631"
   },
   "outputs": [
    {
     "data": {
      "text/plain": [
       "2.0"
      ]
     },
     "execution_count": 44,
     "metadata": {},
     "output_type": "execute_result"
    }
   ],
   "source": [
    "x4_frec=pd.DataFrame(df.X4.value_counts()).index[0]                 #Calcula el numero mas frecuente de la columna\n",
    "x4_frec"
   ]
  },
  {
   "cell_type": "markdown",
   "metadata": {
    "id": "XrCOk7asu2pL"
   },
   "source": [
    "Sustituye los campos de estado civíl faltantes por el mas frecuente"
   ]
  },
  {
   "cell_type": "code",
   "execution_count": 45,
   "metadata": {
    "colab": {
     "base_uri": "https://localhost:8080/"
    },
    "id": "FvCC1Imwx5eo",
    "outputId": "68a8ece2-d6ca-44ed-96e2-d1d3bedf4a38"
   },
   "outputs": [
    {
     "data": {
      "text/plain": [
       "False    30000\n",
       "Name: X4, dtype: int64"
      ]
     },
     "execution_count": 45,
     "metadata": {},
     "output_type": "execute_result"
    }
   ],
   "source": [
    "\n",
    "df['X4'].fillna(value=x4_frec, inplace=True)          #remplaza los nulos de la columana de estado civíl por el mas frecuente de la columna\n",
    "df['X4'].isnull().value_counts()                      #muestra las columnas cambiadas"
   ]
  },
  {
   "cell_type": "markdown",
   "metadata": {
    "id": "kLX89z55u2jh"
   },
   "source": [
    "## X5"
   ]
  },
  {
   "cell_type": "markdown",
   "metadata": {
    "id": "8-mZtScZu2gX"
   },
   "source": [
    "Número de registros que no tienen infomación de edad"
   ]
  },
  {
   "cell_type": "code",
   "execution_count": 46,
   "metadata": {
    "colab": {
     "base_uri": "https://localhost:8080/"
    },
    "id": "B4VGc_7CyP5i",
    "outputId": "83cf1763-49a3-4d49-c67b-8adadb59ecbb"
   },
   "outputs": [
    {
     "data": {
      "text/plain": [
       "False    29995\n",
       "True         5\n",
       "Name: X5, dtype: int64"
      ]
     },
     "execution_count": 46,
     "metadata": {},
     "output_type": "execute_result"
    }
   ],
   "source": [
    "df['X5'].isnull().value_counts()"
   ]
  },
  {
   "cell_type": "markdown",
   "metadata": {
    "id": "RnPeITfzyZ43"
   },
   "source": [
    "Promedio de edad"
   ]
  },
  {
   "cell_type": "code",
   "execution_count": 47,
   "metadata": {
    "colab": {
     "base_uri": "https://localhost:8080/"
    },
    "id": "opPw2VanySkw",
    "outputId": "526fd92c-8797-4aed-cd89-d7e7e43129cc"
   },
   "outputs": [
    {
     "data": {
      "text/plain": [
       "35.0"
      ]
     },
     "execution_count": 47,
     "metadata": {},
     "output_type": "execute_result"
    }
   ],
   "source": [
    "x5_mean=df.X5.mean().round()                      #calcula el promedio redondeado\n",
    "x5_mean"
   ]
  },
  {
   "cell_type": "markdown",
   "metadata": {
    "id": "3U6wGjHru2dY"
   },
   "source": [
    "Sustituye los campos de edad faltantes por el promedio"
   ]
  },
  {
   "cell_type": "code",
   "execution_count": 48,
   "metadata": {
    "colab": {
     "base_uri": "https://localhost:8080/"
    },
    "id": "DryYi0T7yxSm",
    "outputId": "946dd80c-ff79-4ac3-c145-895c470ce1db"
   },
   "outputs": [
    {
     "data": {
      "text/plain": [
       "False    30000\n",
       "Name: X5, dtype: int64"
      ]
     },
     "execution_count": 48,
     "metadata": {},
     "output_type": "execute_result"
    }
   ],
   "source": [
    "\n",
    "df['X5'].fillna(value=x5_mean, inplace=True)          #remplaza los nulos de la columana de edad por el promedio de la columna\n",
    "df['X5'].isnull().value_counts()                      #muestra las columnas cambiadas"
   ]
  },
  {
   "cell_type": "markdown",
   "metadata": {
    "id": "MzbnIdkmu2VG"
   },
   "source": [
    "## X6-X11"
   ]
  },
  {
   "cell_type": "markdown",
   "metadata": {
    "id": "-7khGhYcu2Kc"
   },
   "source": [
    "Número de registros que tienen mas de 3 nulos en las columnas de X6 a X11 "
   ]
  },
  {
   "cell_type": "code",
   "execution_count": 49,
   "metadata": {
    "colab": {
     "base_uri": "https://localhost:8080/"
    },
    "id": "-IS4v7fn0oHv",
    "outputId": "eba6acb4-6d0c-41f4-f537-1e3aa9d0d7bc"
   },
   "outputs": [
    {
     "data": {
      "text/plain": [
       "X6     X7     X8     X9     X10    X11  \n",
       "False  False  False  False  False  False    29978\n",
       "                            True   True         9\n",
       "                     True   False  False        4\n",
       "True   True   True   True   True   True         3\n",
       "False  False  False  False  True   False        2\n",
       "              True   False  False  False        2\n",
       "       True   True   True   True   True         2\n",
       "dtype: int64"
      ]
     },
     "execution_count": 49,
     "metadata": {},
     "output_type": "execute_result"
    }
   ],
   "source": [
    "df[['X6','X7','X8','X9','X10','X11']].isnull().value_counts()     #número de registros con nulls en las columnas X6-X11\n",
    "#df[df[['X6','X7','X8','X9','X10','X11']].isnull().any(axis=1)]   #muestra los datos de las columnas del X6 al X11 con nulos"
   ]
  },
  {
   "cell_type": "markdown",
   "metadata": {
    "id": "PM-nAzKVgNUf"
   },
   "source": [
    "Eliminar las columnas que no tienen al menos 3 campos en X6-X11"
   ]
  },
  {
   "cell_type": "code",
   "execution_count": 50,
   "metadata": {
    "colab": {
     "base_uri": "https://localhost:8080/"
    },
    "id": "57KyJX79gRd5",
    "outputId": "ccf23239-0e8f-419b-c3b6-231a50a55199"
   },
   "outputs": [
    {
     "name": "stdout",
     "output_type": "stream",
     "text": [
      "Tamano original (30000, 25)\n",
      "Tamano después borrar (29995, 25)\n"
     ]
    }
   ],
   "source": [
    "print(\"Tamano original\",df.shape)                                               #tamano de los datos antes de borrar na's\n",
    "df.dropna(thresh=3, subset=['X6','X7','X8','X9','X10','X11'], inplace=True)     #borra las filas donde hay menos de 3 valores por fila\n",
    "print(\"Tamano después borrar\",df.shape)                                         #Tamano del DataFrame después"
   ]
  },
  {
   "cell_type": "markdown",
   "metadata": {
    "id": "lDjbXdix6sXg"
   },
   "source": [
    "## X12-X17"
   ]
  },
  {
   "cell_type": "markdown",
   "metadata": {
    "id": "iUfXlIF46zgZ"
   },
   "source": [
    "Número de registros que tienen mas de 3 nulos en las columnas de X12 a X17"
   ]
  },
  {
   "cell_type": "code",
   "execution_count": 51,
   "metadata": {
    "colab": {
     "base_uri": "https://localhost:8080/"
    },
    "id": "QGHgRe9061eU",
    "outputId": "0a08bb4f-801e-407e-c96c-c0dd368c93bf"
   },
   "outputs": [
    {
     "data": {
      "text/plain": [
       "X12    X13    X14    X15    X16    X17  \n",
       "False  False  False  False  False  False    29981\n",
       "True   True   True   True   True   True         6\n",
       "False  False  False  True   True   False        3\n",
       "                     False  True   False        2\n",
       "                            False  True         1\n",
       "              True   False  False  False        1\n",
       "                     True   True   True         1\n",
       "dtype: int64"
      ]
     },
     "execution_count": 51,
     "metadata": {},
     "output_type": "execute_result"
    }
   ],
   "source": [
    "df[['X12','X13','X14','X15','X16','X17']].isnull().value_counts()     #número de registros con nulls en las columnas X12-X17"
   ]
  },
  {
   "cell_type": "markdown",
   "metadata": {
    "id": "QNY_b5_07EE4"
   },
   "source": [
    "Elimina las columnas que no tienen al menos 3 campos el X12-X17"
   ]
  },
  {
   "cell_type": "code",
   "execution_count": 52,
   "metadata": {
    "colab": {
     "base_uri": "https://localhost:8080/"
    },
    "id": "4q77bmMI7Lhk",
    "outputId": "6fe3327e-1ca6-4a3e-b5b8-af662c76b1cc"
   },
   "outputs": [
    {
     "name": "stdout",
     "output_type": "stream",
     "text": [
      "Tamano original (29995, 25)\n",
      "Tamano después borrar (29988, 25)\n"
     ]
    }
   ],
   "source": [
    "print(\"Tamano original\",df.shape)                                                   #tamano de los datos antes de borrar na's\n",
    "df.dropna(thresh=3, subset=['X12','X13','X14','X15','X16','X17'], inplace=True)     #borra las filas donde hay menos de 3 valores por fila\n",
    "print(\"Tamano después borrar\",df.shape)                                             #Tamano del DataFrame después"
   ]
  },
  {
   "cell_type": "markdown",
   "metadata": {
    "id": "rp6USlKn7Ust"
   },
   "source": [
    "## X18-X23"
   ]
  },
  {
   "cell_type": "markdown",
   "metadata": {
    "id": "5OoNnI5V7Xt5"
   },
   "source": [
    "Número de registros que tienen mas de 3 nulos en las columnas de X18 a X23"
   ]
  },
  {
   "cell_type": "code",
   "execution_count": 53,
   "metadata": {
    "colab": {
     "base_uri": "https://localhost:8080/"
    },
    "id": "STBA3X0s7esh",
    "outputId": "16b2c02a-b1d4-4994-969c-de02aa47976a"
   },
   "outputs": [
    {
     "data": {
      "text/plain": [
       "X18    X19    X20    X21    X22    X23  \n",
       "False  False  False  False  False  False    29981\n",
       "                     True   False  False        2\n",
       "                     False  False  True         1\n",
       "                            True   False        1\n",
       "                                   True         1\n",
       "                     True   True   False        1\n",
       "       True   False  False  False  False        1\n",
       "dtype: int64"
      ]
     },
     "execution_count": 53,
     "metadata": {},
     "output_type": "execute_result"
    }
   ],
   "source": [
    "df[['X18','X19','X20','X21','X22','X23']].isnull().value_counts()     #número de registros con nulls en las columnas X12-X17"
   ]
  },
  {
   "cell_type": "markdown",
   "metadata": {
    "id": "KjKxAoeb7eVr"
   },
   "source": [
    "Elimina las columnas que no tienen al menos 3 campos el X18-X23"
   ]
  },
  {
   "cell_type": "code",
   "execution_count": 54,
   "metadata": {
    "colab": {
     "base_uri": "https://localhost:8080/"
    },
    "id": "BV7T6s5S7rfV",
    "outputId": "a633202d-2b1f-4d29-c250-48e2a7c90a4a"
   },
   "outputs": [
    {
     "name": "stdout",
     "output_type": "stream",
     "text": [
      "Tamano original (29988, 25)\n",
      "Tamano después borrar (29988, 25)\n"
     ]
    }
   ],
   "source": [
    "print(\"Tamano original\",df.shape)                                                   #tamano de los datos antes de borrar na's\n",
    "df.dropna(thresh=3, subset=['X18','X19','X20','X21','X22','X23'], inplace=True)     #borra las filas donde hay menos de 3 valores por fila\n",
    "print(\"Tamano después borrar\",df.shape)                                             #Tamano del DataFrame después"
   ]
  },
  {
   "cell_type": "markdown",
   "metadata": {
    "id": "q_8z2OHZAxfx"
   },
   "source": [
    "En este punto la BD esta limpia y lista para ser procesada"
   ]
  },
  {
   "cell_type": "code",
   "execution_count": 55,
   "metadata": {
    "colab": {
     "base_uri": "https://localhost:8080/",
     "height": 487
    },
    "id": "YayZDfKbA3hr",
    "outputId": "1ed5e45d-f5cf-4f8d-ecfb-5db80d42b9d3"
   },
   "outputs": [
    {
     "data": {
      "text/html": [
       "\n",
       "  <div id=\"df-31754d61-8a88-417a-972f-b6a9a78859d4\">\n",
       "    <div class=\"colab-df-container\">\n",
       "      <div>\n",
       "<style scoped>\n",
       "    .dataframe tbody tr th:only-of-type {\n",
       "        vertical-align: middle;\n",
       "    }\n",
       "\n",
       "    .dataframe tbody tr th {\n",
       "        vertical-align: top;\n",
       "    }\n",
       "\n",
       "    .dataframe thead th {\n",
       "        text-align: right;\n",
       "    }\n",
       "</style>\n",
       "<table border=\"1\" class=\"dataframe\">\n",
       "  <thead>\n",
       "    <tr style=\"text-align: right;\">\n",
       "      <th></th>\n",
       "      <th>ID</th>\n",
       "      <th>X1</th>\n",
       "      <th>X2</th>\n",
       "      <th>X3</th>\n",
       "      <th>X4</th>\n",
       "      <th>X5</th>\n",
       "      <th>X6</th>\n",
       "      <th>X7</th>\n",
       "      <th>X8</th>\n",
       "      <th>X9</th>\n",
       "      <th>X10</th>\n",
       "      <th>X11</th>\n",
       "      <th>X12</th>\n",
       "      <th>X13</th>\n",
       "      <th>X14</th>\n",
       "      <th>X15</th>\n",
       "      <th>X16</th>\n",
       "      <th>X17</th>\n",
       "      <th>X18</th>\n",
       "      <th>X19</th>\n",
       "      <th>X20</th>\n",
       "      <th>X21</th>\n",
       "      <th>X22</th>\n",
       "      <th>X23</th>\n",
       "      <th>Y</th>\n",
       "    </tr>\n",
       "  </thead>\n",
       "  <tbody>\n",
       "    <tr>\n",
       "      <th>0</th>\n",
       "      <td>1</td>\n",
       "      <td>20000</td>\n",
       "      <td>2.0</td>\n",
       "      <td>2.0</td>\n",
       "      <td>1.0</td>\n",
       "      <td>24.0</td>\n",
       "      <td>2.0</td>\n",
       "      <td>2.0</td>\n",
       "      <td>-1.0</td>\n",
       "      <td>-1.0</td>\n",
       "      <td>-2.0</td>\n",
       "      <td>-2.0</td>\n",
       "      <td>3913.0</td>\n",
       "      <td>3102.0</td>\n",
       "      <td>689.0</td>\n",
       "      <td>0.0</td>\n",
       "      <td>0.0</td>\n",
       "      <td>0.0</td>\n",
       "      <td>0.0</td>\n",
       "      <td>689.0</td>\n",
       "      <td>0.0</td>\n",
       "      <td>0.0</td>\n",
       "      <td>0.0</td>\n",
       "      <td>0.0</td>\n",
       "      <td>1.0</td>\n",
       "    </tr>\n",
       "    <tr>\n",
       "      <th>1</th>\n",
       "      <td>2</td>\n",
       "      <td>120000</td>\n",
       "      <td>2.0</td>\n",
       "      <td>2.0</td>\n",
       "      <td>2.0</td>\n",
       "      <td>26.0</td>\n",
       "      <td>-1.0</td>\n",
       "      <td>2.0</td>\n",
       "      <td>0.0</td>\n",
       "      <td>0.0</td>\n",
       "      <td>0.0</td>\n",
       "      <td>2.0</td>\n",
       "      <td>2682.0</td>\n",
       "      <td>1725.0</td>\n",
       "      <td>2682.0</td>\n",
       "      <td>3272.0</td>\n",
       "      <td>3455.0</td>\n",
       "      <td>3261.0</td>\n",
       "      <td>0.0</td>\n",
       "      <td>1000.0</td>\n",
       "      <td>1000.0</td>\n",
       "      <td>1000.0</td>\n",
       "      <td>0.0</td>\n",
       "      <td>2000.0</td>\n",
       "      <td>1.0</td>\n",
       "    </tr>\n",
       "    <tr>\n",
       "      <th>2</th>\n",
       "      <td>3</td>\n",
       "      <td>90000</td>\n",
       "      <td>2.0</td>\n",
       "      <td>2.0</td>\n",
       "      <td>2.0</td>\n",
       "      <td>34.0</td>\n",
       "      <td>0.0</td>\n",
       "      <td>0.0</td>\n",
       "      <td>0.0</td>\n",
       "      <td>0.0</td>\n",
       "      <td>0.0</td>\n",
       "      <td>0.0</td>\n",
       "      <td>29239.0</td>\n",
       "      <td>14027.0</td>\n",
       "      <td>13559.0</td>\n",
       "      <td>14331.0</td>\n",
       "      <td>14948.0</td>\n",
       "      <td>15549.0</td>\n",
       "      <td>1518.0</td>\n",
       "      <td>1500.0</td>\n",
       "      <td>1000.0</td>\n",
       "      <td>1000.0</td>\n",
       "      <td>1000.0</td>\n",
       "      <td>5000.0</td>\n",
       "      <td>0.0</td>\n",
       "    </tr>\n",
       "    <tr>\n",
       "      <th>3</th>\n",
       "      <td>4</td>\n",
       "      <td>50000</td>\n",
       "      <td>2.0</td>\n",
       "      <td>2.0</td>\n",
       "      <td>1.0</td>\n",
       "      <td>37.0</td>\n",
       "      <td>0.0</td>\n",
       "      <td>0.0</td>\n",
       "      <td>0.0</td>\n",
       "      <td>0.0</td>\n",
       "      <td>0.0</td>\n",
       "      <td>0.0</td>\n",
       "      <td>46990.0</td>\n",
       "      <td>48233.0</td>\n",
       "      <td>49291.0</td>\n",
       "      <td>28314.0</td>\n",
       "      <td>28959.0</td>\n",
       "      <td>29547.0</td>\n",
       "      <td>2000.0</td>\n",
       "      <td>2019.0</td>\n",
       "      <td>1200.0</td>\n",
       "      <td>1100.0</td>\n",
       "      <td>1069.0</td>\n",
       "      <td>1000.0</td>\n",
       "      <td>0.0</td>\n",
       "    </tr>\n",
       "    <tr>\n",
       "      <th>4</th>\n",
       "      <td>5</td>\n",
       "      <td>50000</td>\n",
       "      <td>1.0</td>\n",
       "      <td>2.0</td>\n",
       "      <td>1.0</td>\n",
       "      <td>57.0</td>\n",
       "      <td>-1.0</td>\n",
       "      <td>0.0</td>\n",
       "      <td>-1.0</td>\n",
       "      <td>0.0</td>\n",
       "      <td>0.0</td>\n",
       "      <td>0.0</td>\n",
       "      <td>8617.0</td>\n",
       "      <td>5670.0</td>\n",
       "      <td>35835.0</td>\n",
       "      <td>20940.0</td>\n",
       "      <td>19146.0</td>\n",
       "      <td>19131.0</td>\n",
       "      <td>2000.0</td>\n",
       "      <td>36681.0</td>\n",
       "      <td>10000.0</td>\n",
       "      <td>9000.0</td>\n",
       "      <td>689.0</td>\n",
       "      <td>679.0</td>\n",
       "      <td>0.0</td>\n",
       "    </tr>\n",
       "    <tr>\n",
       "      <th>...</th>\n",
       "      <td>...</td>\n",
       "      <td>...</td>\n",
       "      <td>...</td>\n",
       "      <td>...</td>\n",
       "      <td>...</td>\n",
       "      <td>...</td>\n",
       "      <td>...</td>\n",
       "      <td>...</td>\n",
       "      <td>...</td>\n",
       "      <td>...</td>\n",
       "      <td>...</td>\n",
       "      <td>...</td>\n",
       "      <td>...</td>\n",
       "      <td>...</td>\n",
       "      <td>...</td>\n",
       "      <td>...</td>\n",
       "      <td>...</td>\n",
       "      <td>...</td>\n",
       "      <td>...</td>\n",
       "      <td>...</td>\n",
       "      <td>...</td>\n",
       "      <td>...</td>\n",
       "      <td>...</td>\n",
       "      <td>...</td>\n",
       "      <td>...</td>\n",
       "    </tr>\n",
       "    <tr>\n",
       "      <th>29995</th>\n",
       "      <td>29996</td>\n",
       "      <td>220000</td>\n",
       "      <td>1.0</td>\n",
       "      <td>3.0</td>\n",
       "      <td>1.0</td>\n",
       "      <td>39.0</td>\n",
       "      <td>0.0</td>\n",
       "      <td>0.0</td>\n",
       "      <td>0.0</td>\n",
       "      <td>0.0</td>\n",
       "      <td>0.0</td>\n",
       "      <td>0.0</td>\n",
       "      <td>188948.0</td>\n",
       "      <td>192815.0</td>\n",
       "      <td>208365.0</td>\n",
       "      <td>88004.0</td>\n",
       "      <td>31237.0</td>\n",
       "      <td>15980.0</td>\n",
       "      <td>8500.0</td>\n",
       "      <td>20000.0</td>\n",
       "      <td>5003.0</td>\n",
       "      <td>3047.0</td>\n",
       "      <td>5000.0</td>\n",
       "      <td>1000.0</td>\n",
       "      <td>0.0</td>\n",
       "    </tr>\n",
       "    <tr>\n",
       "      <th>29996</th>\n",
       "      <td>29997</td>\n",
       "      <td>150000</td>\n",
       "      <td>1.0</td>\n",
       "      <td>3.0</td>\n",
       "      <td>2.0</td>\n",
       "      <td>43.0</td>\n",
       "      <td>-1.0</td>\n",
       "      <td>-1.0</td>\n",
       "      <td>-1.0</td>\n",
       "      <td>-1.0</td>\n",
       "      <td>0.0</td>\n",
       "      <td>0.0</td>\n",
       "      <td>1683.0</td>\n",
       "      <td>1828.0</td>\n",
       "      <td>3502.0</td>\n",
       "      <td>8979.0</td>\n",
       "      <td>5190.0</td>\n",
       "      <td>0.0</td>\n",
       "      <td>1837.0</td>\n",
       "      <td>3526.0</td>\n",
       "      <td>8998.0</td>\n",
       "      <td>129.0</td>\n",
       "      <td>0.0</td>\n",
       "      <td>0.0</td>\n",
       "      <td>0.0</td>\n",
       "    </tr>\n",
       "    <tr>\n",
       "      <th>29997</th>\n",
       "      <td>29998</td>\n",
       "      <td>30000</td>\n",
       "      <td>1.0</td>\n",
       "      <td>2.0</td>\n",
       "      <td>2.0</td>\n",
       "      <td>37.0</td>\n",
       "      <td>4.0</td>\n",
       "      <td>3.0</td>\n",
       "      <td>2.0</td>\n",
       "      <td>-1.0</td>\n",
       "      <td>0.0</td>\n",
       "      <td>0.0</td>\n",
       "      <td>3565.0</td>\n",
       "      <td>3356.0</td>\n",
       "      <td>2758.0</td>\n",
       "      <td>20878.0</td>\n",
       "      <td>20582.0</td>\n",
       "      <td>19357.0</td>\n",
       "      <td>0.0</td>\n",
       "      <td>0.0</td>\n",
       "      <td>22000.0</td>\n",
       "      <td>4200.0</td>\n",
       "      <td>2000.0</td>\n",
       "      <td>3100.0</td>\n",
       "      <td>1.0</td>\n",
       "    </tr>\n",
       "    <tr>\n",
       "      <th>29998</th>\n",
       "      <td>29999</td>\n",
       "      <td>80000</td>\n",
       "      <td>1.0</td>\n",
       "      <td>3.0</td>\n",
       "      <td>1.0</td>\n",
       "      <td>41.0</td>\n",
       "      <td>1.0</td>\n",
       "      <td>-1.0</td>\n",
       "      <td>0.0</td>\n",
       "      <td>0.0</td>\n",
       "      <td>0.0</td>\n",
       "      <td>-1.0</td>\n",
       "      <td>-1645.0</td>\n",
       "      <td>78379.0</td>\n",
       "      <td>76304.0</td>\n",
       "      <td>52774.0</td>\n",
       "      <td>11855.0</td>\n",
       "      <td>48944.0</td>\n",
       "      <td>85900.0</td>\n",
       "      <td>3409.0</td>\n",
       "      <td>1178.0</td>\n",
       "      <td>1926.0</td>\n",
       "      <td>52964.0</td>\n",
       "      <td>1804.0</td>\n",
       "      <td>1.0</td>\n",
       "    </tr>\n",
       "    <tr>\n",
       "      <th>29999</th>\n",
       "      <td>30000</td>\n",
       "      <td>50000</td>\n",
       "      <td>1.0</td>\n",
       "      <td>2.0</td>\n",
       "      <td>1.0</td>\n",
       "      <td>46.0</td>\n",
       "      <td>0.0</td>\n",
       "      <td>0.0</td>\n",
       "      <td>0.0</td>\n",
       "      <td>0.0</td>\n",
       "      <td>0.0</td>\n",
       "      <td>0.0</td>\n",
       "      <td>47929.0</td>\n",
       "      <td>48905.0</td>\n",
       "      <td>49764.0</td>\n",
       "      <td>36535.0</td>\n",
       "      <td>32428.0</td>\n",
       "      <td>15313.0</td>\n",
       "      <td>2078.0</td>\n",
       "      <td>1800.0</td>\n",
       "      <td>1430.0</td>\n",
       "      <td>1000.0</td>\n",
       "      <td>1000.0</td>\n",
       "      <td>1000.0</td>\n",
       "      <td>1.0</td>\n",
       "    </tr>\n",
       "  </tbody>\n",
       "</table>\n",
       "<p>29988 rows × 25 columns</p>\n",
       "</div>\n",
       "      <button class=\"colab-df-convert\" onclick=\"convertToInteractive('df-31754d61-8a88-417a-972f-b6a9a78859d4')\"\n",
       "              title=\"Convert this dataframe to an interactive table.\"\n",
       "              style=\"display:none;\">\n",
       "        \n",
       "  <svg xmlns=\"http://www.w3.org/2000/svg\" height=\"24px\"viewBox=\"0 0 24 24\"\n",
       "       width=\"24px\">\n",
       "    <path d=\"M0 0h24v24H0V0z\" fill=\"none\"/>\n",
       "    <path d=\"M18.56 5.44l.94 2.06.94-2.06 2.06-.94-2.06-.94-.94-2.06-.94 2.06-2.06.94zm-11 1L8.5 8.5l.94-2.06 2.06-.94-2.06-.94L8.5 2.5l-.94 2.06-2.06.94zm10 10l.94 2.06.94-2.06 2.06-.94-2.06-.94-.94-2.06-.94 2.06-2.06.94z\"/><path d=\"M17.41 7.96l-1.37-1.37c-.4-.4-.92-.59-1.43-.59-.52 0-1.04.2-1.43.59L10.3 9.45l-7.72 7.72c-.78.78-.78 2.05 0 2.83L4 21.41c.39.39.9.59 1.41.59.51 0 1.02-.2 1.41-.59l7.78-7.78 2.81-2.81c.8-.78.8-2.07 0-2.86zM5.41 20L4 18.59l7.72-7.72 1.47 1.35L5.41 20z\"/>\n",
       "  </svg>\n",
       "      </button>\n",
       "      \n",
       "  <style>\n",
       "    .colab-df-container {\n",
       "      display:flex;\n",
       "      flex-wrap:wrap;\n",
       "      gap: 12px;\n",
       "    }\n",
       "\n",
       "    .colab-df-convert {\n",
       "      background-color: #E8F0FE;\n",
       "      border: none;\n",
       "      border-radius: 50%;\n",
       "      cursor: pointer;\n",
       "      display: none;\n",
       "      fill: #1967D2;\n",
       "      height: 32px;\n",
       "      padding: 0 0 0 0;\n",
       "      width: 32px;\n",
       "    }\n",
       "\n",
       "    .colab-df-convert:hover {\n",
       "      background-color: #E2EBFA;\n",
       "      box-shadow: 0px 1px 2px rgba(60, 64, 67, 0.3), 0px 1px 3px 1px rgba(60, 64, 67, 0.15);\n",
       "      fill: #174EA6;\n",
       "    }\n",
       "\n",
       "    [theme=dark] .colab-df-convert {\n",
       "      background-color: #3B4455;\n",
       "      fill: #D2E3FC;\n",
       "    }\n",
       "\n",
       "    [theme=dark] .colab-df-convert:hover {\n",
       "      background-color: #434B5C;\n",
       "      box-shadow: 0px 1px 3px 1px rgba(0, 0, 0, 0.15);\n",
       "      filter: drop-shadow(0px 1px 2px rgba(0, 0, 0, 0.3));\n",
       "      fill: #FFFFFF;\n",
       "    }\n",
       "  </style>\n",
       "\n",
       "      <script>\n",
       "        const buttonEl =\n",
       "          document.querySelector('#df-31754d61-8a88-417a-972f-b6a9a78859d4 button.colab-df-convert');\n",
       "        buttonEl.style.display =\n",
       "          google.colab.kernel.accessAllowed ? 'block' : 'none';\n",
       "\n",
       "        async function convertToInteractive(key) {\n",
       "          const element = document.querySelector('#df-31754d61-8a88-417a-972f-b6a9a78859d4');\n",
       "          const dataTable =\n",
       "            await google.colab.kernel.invokeFunction('convertToInteractive',\n",
       "                                                     [key], {});\n",
       "          if (!dataTable) return;\n",
       "\n",
       "          const docLinkHtml = 'Like what you see? Visit the ' +\n",
       "            '<a target=\"_blank\" href=https://colab.research.google.com/notebooks/data_table.ipynb>data table notebook</a>'\n",
       "            + ' to learn more about interactive tables.';\n",
       "          element.innerHTML = '';\n",
       "          dataTable['output_type'] = 'display_data';\n",
       "          await google.colab.output.renderOutput(dataTable, element);\n",
       "          const docLink = document.createElement('div');\n",
       "          docLink.innerHTML = docLinkHtml;\n",
       "          element.appendChild(docLink);\n",
       "        }\n",
       "      </script>\n",
       "    </div>\n",
       "  </div>\n",
       "  "
      ],
      "text/plain": [
       "          ID      X1   X2   X3   X4    X5   X6   X7   X8   X9  X10  X11  \\\n",
       "0          1   20000  2.0  2.0  1.0  24.0  2.0  2.0 -1.0 -1.0 -2.0 -2.0   \n",
       "1          2  120000  2.0  2.0  2.0  26.0 -1.0  2.0  0.0  0.0  0.0  2.0   \n",
       "2          3   90000  2.0  2.0  2.0  34.0  0.0  0.0  0.0  0.0  0.0  0.0   \n",
       "3          4   50000  2.0  2.0  1.0  37.0  0.0  0.0  0.0  0.0  0.0  0.0   \n",
       "4          5   50000  1.0  2.0  1.0  57.0 -1.0  0.0 -1.0  0.0  0.0  0.0   \n",
       "...      ...     ...  ...  ...  ...   ...  ...  ...  ...  ...  ...  ...   \n",
       "29995  29996  220000  1.0  3.0  1.0  39.0  0.0  0.0  0.0  0.0  0.0  0.0   \n",
       "29996  29997  150000  1.0  3.0  2.0  43.0 -1.0 -1.0 -1.0 -1.0  0.0  0.0   \n",
       "29997  29998   30000  1.0  2.0  2.0  37.0  4.0  3.0  2.0 -1.0  0.0  0.0   \n",
       "29998  29999   80000  1.0  3.0  1.0  41.0  1.0 -1.0  0.0  0.0  0.0 -1.0   \n",
       "29999  30000   50000  1.0  2.0  1.0  46.0  0.0  0.0  0.0  0.0  0.0  0.0   \n",
       "\n",
       "            X12       X13       X14      X15      X16      X17      X18  \\\n",
       "0        3913.0    3102.0     689.0      0.0      0.0      0.0      0.0   \n",
       "1        2682.0    1725.0    2682.0   3272.0   3455.0   3261.0      0.0   \n",
       "2       29239.0   14027.0   13559.0  14331.0  14948.0  15549.0   1518.0   \n",
       "3       46990.0   48233.0   49291.0  28314.0  28959.0  29547.0   2000.0   \n",
       "4        8617.0    5670.0   35835.0  20940.0  19146.0  19131.0   2000.0   \n",
       "...         ...       ...       ...      ...      ...      ...      ...   \n",
       "29995  188948.0  192815.0  208365.0  88004.0  31237.0  15980.0   8500.0   \n",
       "29996    1683.0    1828.0    3502.0   8979.0   5190.0      0.0   1837.0   \n",
       "29997    3565.0    3356.0    2758.0  20878.0  20582.0  19357.0      0.0   \n",
       "29998   -1645.0   78379.0   76304.0  52774.0  11855.0  48944.0  85900.0   \n",
       "29999   47929.0   48905.0   49764.0  36535.0  32428.0  15313.0   2078.0   \n",
       "\n",
       "           X19      X20     X21      X22     X23    Y  \n",
       "0        689.0      0.0     0.0      0.0     0.0  1.0  \n",
       "1       1000.0   1000.0  1000.0      0.0  2000.0  1.0  \n",
       "2       1500.0   1000.0  1000.0   1000.0  5000.0  0.0  \n",
       "3       2019.0   1200.0  1100.0   1069.0  1000.0  0.0  \n",
       "4      36681.0  10000.0  9000.0    689.0   679.0  0.0  \n",
       "...        ...      ...     ...      ...     ...  ...  \n",
       "29995  20000.0   5003.0  3047.0   5000.0  1000.0  0.0  \n",
       "29996   3526.0   8998.0   129.0      0.0     0.0  0.0  \n",
       "29997      0.0  22000.0  4200.0   2000.0  3100.0  1.0  \n",
       "29998   3409.0   1178.0  1926.0  52964.0  1804.0  1.0  \n",
       "29999   1800.0   1430.0  1000.0   1000.0  1000.0  1.0  \n",
       "\n",
       "[29988 rows x 25 columns]"
      ]
     },
     "execution_count": 55,
     "metadata": {},
     "output_type": "execute_result"
    }
   ],
   "source": [
    "df"
   ]
  },
  {
   "cell_type": "markdown",
   "metadata": {
    "id": "XxHKR8AvopE7"
   },
   "source": [
    "# Parte 3: Preparación de los datos"
   ]
  },
  {
   "cell_type": "markdown",
   "metadata": {
    "id": "1EF-aCsN1KvL"
   },
   "source": [
    "\n",
    "\n",
    "1.   **¿Qué datos considero mas importantes? ¿Por qué?**\n",
    "\n",
    "      Las columnas de historial de pago me parecen los datos mas importantes de estos datos, si no contamos con al menos tres meses de esta información creo que es muy difícil poder modelar o calificar al cliente.\n",
    "\n",
    "\n",
    "2.   **¿Se eliminaron o reemplazaron datos nulos? ¿Qué se hizo y por qué?**\n",
    "\n",
    "      Se eliminaron todos los registros que no incluyen más de tres meses de historial porque no sirven para calificar al cliente. Asi como los registros de pagos historicos y montos de los pagos historicos, tambien se eliminan si no existen al menos 3 de cada uno.\n",
    "      Para el caso de edad y educación se sustituyeron los datos faltantes por promedio de sus respectivas columnas, para el caso de estado civíl y genero se sustituyeron por la frecuencia esto debido que son muy pocos los registros que tienen datos faltantes de este tipo y a que no creo que tengan un peso muy importante en la decición de la calificación del cliente.\n",
    "\n",
    "3.   **¿Es necesario ordenar los datos para el análisis? Sí / No / ¿Por qué?**\n",
    "\n",
    "      En este caso en particular creo que es importante que las columnas esten ordenadas porque algunas represantan periodos o fechas, en el caso de las filas no lo creo que sea importante porque no hay alguna medida o proceso que lo requiera. \n",
    "\n",
    "4.   **Existen problemas de formato que deban solucionar antes del proceso de modelado? Sí / No / Por qué.**\n",
    "\n",
    "      En este caso en particular no detecto problemas de formato, todas las columnas estan estandarizadas en sus datos, pero creo que es muy importante solucionar esto en caso de existir, porque se necesita que todos los datos esten estandarizados para poder aplicar los procesos que se requieran para su modelado. Si no se estandariza es posible que al aplicar las fuciones de modelado se generen errores. Si por ejemplo las funcioes de modelado reuieren datos de tipo flotente y encuentrn un dato de cadena lo mas seguro es que genere error. \n",
    "\n",
    "5.   **¿Qué ajustes se realizaron en el proceso de limpieza de datos (agregar, integrar, eliminar, modificar registros (filas), cambiar atributos (columnas)?**\n",
    "\n",
    "      Se sustituyeron valores faltantes por frecuencias, promedios y se borraron registros que no tenian suficiente informacion para poder modelar con los datos que incluian.\n",
    "\n",
    "    Este es el detalle: \n",
    "\n",
    "    ID: No hacer nada, esta columna solo identifica al usuario y no tiene faltantes \n",
    "\n",
    "    X1: No hacer nada, esta columna no tiene faltantes y esta estandarizada\n",
    "\n",
    "    X2: Si falta el genero sustituirlo por el mas frecuente\n",
    "\n",
    "    X3: Si falta educación sustituirlo por el promedio redondeado\n",
    "\n",
    "    X4: Si falta estado civil sustituirlo por el mas frecuente\n",
    "\n",
    "    X5: Si falta la edad sustituirla con el promedio de edad de la columna\n",
    "\n",
    "    X6-X11: Si no hay más de 3 datos eliminar el registro\n",
    "\n",
    "    X12-X17: Si no hay más de 3 datos eliminar el registro\n",
    "\n",
    "    X18-X23: Si no hay más de 3 datos eliminar el registro\n",
    "\n",
    "    Y: No hacer nada\n"
   ]
  },
  {
   "cell_type": "markdown",
   "metadata": {},
   "source": [
    "Evidencias "
   ]
  }
 ],
 "metadata": {
  "colab": {
   "authorship_tag": "ABX9TyP+FEQqHRHBIFNpfxEd/lz7",
   "collapsed_sections": [
    "fiIs7Y6Owh9u",
    "ZagF-LWvwtkd"
   ],
   "include_colab_link": true,
   "provenance": []
  },
  "kernelspec": {
   "display_name": "Python 3 (ipykernel)",
   "language": "python",
   "name": "python3"
  },
  "language_info": {
   "codemirror_mode": {
    "name": "ipython",
    "version": 3
   },
   "file_extension": ".py",
   "mimetype": "text/x-python",
   "name": "python",
   "nbconvert_exporter": "python",
   "pygments_lexer": "ipython3",
   "version": "3.9.7"
  }
 },
 "nbformat": 4,
 "nbformat_minor": 1
}
