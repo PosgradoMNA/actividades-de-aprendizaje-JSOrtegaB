{
  "nbformat": 4,
  "nbformat_minor": 0,
  "metadata": {
    "colab": {
      "provenance": [],
      "collapsed_sections": [],
      "authorship_tag": "ABX9TyPJRXbmpv5N+AFFTBvOyRk5",
      "include_colab_link": true
    },
    "kernelspec": {
      "name": "python3",
      "display_name": "Python 3"
    },
    "language_info": {
      "name": "python"
    }
  },
  "cells": [
    {
      "cell_type": "markdown",
      "metadata": {
        "id": "view-in-github",
        "colab_type": "text"
      },
      "source": [
        "<a href=\"https://colab.research.google.com/github/PosgradoMNA/actividades-de-aprendizaje-JSOrtegaB/blob/main/Actividad_Semanal_6_Visualizacion_JuanSebastianOrtegaBriones_A01794327.ipynb\" target=\"_parent\"><img src=\"https://colab.research.google.com/assets/colab-badge.svg\" alt=\"Open In Colab\"/></a>"
      ]
    },
    {
      "cell_type": "markdown",
      "source": [
        "# Actividad Semanal 6, visualización\n",
        "\n",
        "## Ciencia y analítica de datos\n",
        "\n",
        "### Profesor:  María de la Paz Rico Fernández\n",
        "\n",
        "###Juan Sebastian Ortega Briones A01794327"
      ],
      "metadata": {
        "id": "oFud5VyQ2hqP"
      }
    },
    {
      "cell_type": "markdown",
      "source": [
        "Se importan las dependencias"
      ],
      "metadata": {
        "id": "yYIVUsDS2WP4"
      }
    },
    {
      "cell_type": "code",
      "execution_count": 227,
      "metadata": {
        "id": "dbK87pSftA_B"
      },
      "outputs": [],
      "source": [
        "import pandas as pd\n",
        "import numpy as np\n",
        "import seaborn as sns\n",
        "import matplotlib.pyplot as plt\n",
        "import array as arr\n",
        "from sklearn import preprocessing\n",
        "from sklearn.decomposition import PCA\n",
        "%matplotlib inline"
      ]
    },
    {
      "cell_type": "markdown",
      "source": [
        "Se lee el archivo de datos"
      ],
      "metadata": {
        "id": "MmADoYG-4A4G"
      }
    },
    {
      "cell_type": "code",
      "source": [
        "df=pd.read_csv(\"https://raw.githubusercontent.com/PosgradoMNA/Actividades_Aprendizaje-/main/default%20of%20credit%20card%20clients.csv\")"
      ],
      "metadata": {
        "id": "38AGFwJftKLn"
      },
      "execution_count": 228,
      "outputs": []
    },
    {
      "cell_type": "markdown",
      "source": [
        "## Obten la información del DataFrame con los métodos y propiedades: shape, columns, head(), dtypes, info(), isna()"
      ],
      "metadata": {
        "id": "qxTiefnqluA0"
      }
    },
    {
      "cell_type": "markdown",
      "source": [
        "[Descripción de los datos](https://raw.githubusercontent.com/PosgradoMNA/Actividades_Aprendizaje-/main/dataset_info.txt)"
      ],
      "metadata": {
        "id": "FoAyMbC_x3vg"
      }
    },
    {
      "cell_type": "code",
      "source": [
        "pd.set_option(\"display.max_columns\", 25)\n",
        "df.head(5)"
      ],
      "metadata": {
        "colab": {
          "base_uri": "https://localhost:8080/",
          "height": 250
        },
        "id": "Ujbc3XPEtRf9",
        "outputId": "4f25b317-9e83-4192-e342-175f61226e6b"
      },
      "execution_count": 229,
      "outputs": [
        {
          "output_type": "execute_result",
          "data": {
            "text/plain": [
              "   ID      X1   X2   X3   X4    X5   X6   X7   X8   X9  X10  X11      X12  \\\n",
              "0   1   20000  2.0  2.0  1.0  24.0  2.0  2.0 -1.0 -1.0 -2.0 -2.0   3913.0   \n",
              "1   2  120000  2.0  2.0  2.0  26.0 -1.0  2.0  0.0  0.0  0.0  2.0   2682.0   \n",
              "2   3   90000  2.0  2.0  2.0  34.0  0.0  0.0  0.0  0.0  0.0  0.0  29239.0   \n",
              "3   4   50000  2.0  2.0  1.0  37.0  0.0  0.0  0.0  0.0  0.0  0.0  46990.0   \n",
              "4   5   50000  1.0  2.0  1.0  57.0 -1.0  0.0 -1.0  0.0  0.0  0.0   8617.0   \n",
              "\n",
              "       X13      X14      X15      X16      X17     X18      X19      X20  \\\n",
              "0   3102.0    689.0      0.0      0.0      0.0     0.0    689.0      0.0   \n",
              "1   1725.0   2682.0   3272.0   3455.0   3261.0     0.0   1000.0   1000.0   \n",
              "2  14027.0  13559.0  14331.0  14948.0  15549.0  1518.0   1500.0   1000.0   \n",
              "3  48233.0  49291.0  28314.0  28959.0  29547.0  2000.0   2019.0   1200.0   \n",
              "4   5670.0  35835.0  20940.0  19146.0  19131.0  2000.0  36681.0  10000.0   \n",
              "\n",
              "      X21     X22     X23    Y  \n",
              "0     0.0     0.0     0.0  1.0  \n",
              "1  1000.0     0.0  2000.0  1.0  \n",
              "2  1000.0  1000.0  5000.0  0.0  \n",
              "3  1100.0  1069.0  1000.0  0.0  \n",
              "4  9000.0   689.0   679.0  0.0  "
            ],
            "text/html": [
              "\n",
              "  <div id=\"df-1ea1635c-dba7-4a62-9bbd-0e04c2bf8353\">\n",
              "    <div class=\"colab-df-container\">\n",
              "      <div>\n",
              "<style scoped>\n",
              "    .dataframe tbody tr th:only-of-type {\n",
              "        vertical-align: middle;\n",
              "    }\n",
              "\n",
              "    .dataframe tbody tr th {\n",
              "        vertical-align: top;\n",
              "    }\n",
              "\n",
              "    .dataframe thead th {\n",
              "        text-align: right;\n",
              "    }\n",
              "</style>\n",
              "<table border=\"1\" class=\"dataframe\">\n",
              "  <thead>\n",
              "    <tr style=\"text-align: right;\">\n",
              "      <th></th>\n",
              "      <th>ID</th>\n",
              "      <th>X1</th>\n",
              "      <th>X2</th>\n",
              "      <th>X3</th>\n",
              "      <th>X4</th>\n",
              "      <th>X5</th>\n",
              "      <th>X6</th>\n",
              "      <th>X7</th>\n",
              "      <th>X8</th>\n",
              "      <th>X9</th>\n",
              "      <th>X10</th>\n",
              "      <th>X11</th>\n",
              "      <th>X12</th>\n",
              "      <th>X13</th>\n",
              "      <th>X14</th>\n",
              "      <th>X15</th>\n",
              "      <th>X16</th>\n",
              "      <th>X17</th>\n",
              "      <th>X18</th>\n",
              "      <th>X19</th>\n",
              "      <th>X20</th>\n",
              "      <th>X21</th>\n",
              "      <th>X22</th>\n",
              "      <th>X23</th>\n",
              "      <th>Y</th>\n",
              "    </tr>\n",
              "  </thead>\n",
              "  <tbody>\n",
              "    <tr>\n",
              "      <th>0</th>\n",
              "      <td>1</td>\n",
              "      <td>20000</td>\n",
              "      <td>2.0</td>\n",
              "      <td>2.0</td>\n",
              "      <td>1.0</td>\n",
              "      <td>24.0</td>\n",
              "      <td>2.0</td>\n",
              "      <td>2.0</td>\n",
              "      <td>-1.0</td>\n",
              "      <td>-1.0</td>\n",
              "      <td>-2.0</td>\n",
              "      <td>-2.0</td>\n",
              "      <td>3913.0</td>\n",
              "      <td>3102.0</td>\n",
              "      <td>689.0</td>\n",
              "      <td>0.0</td>\n",
              "      <td>0.0</td>\n",
              "      <td>0.0</td>\n",
              "      <td>0.0</td>\n",
              "      <td>689.0</td>\n",
              "      <td>0.0</td>\n",
              "      <td>0.0</td>\n",
              "      <td>0.0</td>\n",
              "      <td>0.0</td>\n",
              "      <td>1.0</td>\n",
              "    </tr>\n",
              "    <tr>\n",
              "      <th>1</th>\n",
              "      <td>2</td>\n",
              "      <td>120000</td>\n",
              "      <td>2.0</td>\n",
              "      <td>2.0</td>\n",
              "      <td>2.0</td>\n",
              "      <td>26.0</td>\n",
              "      <td>-1.0</td>\n",
              "      <td>2.0</td>\n",
              "      <td>0.0</td>\n",
              "      <td>0.0</td>\n",
              "      <td>0.0</td>\n",
              "      <td>2.0</td>\n",
              "      <td>2682.0</td>\n",
              "      <td>1725.0</td>\n",
              "      <td>2682.0</td>\n",
              "      <td>3272.0</td>\n",
              "      <td>3455.0</td>\n",
              "      <td>3261.0</td>\n",
              "      <td>0.0</td>\n",
              "      <td>1000.0</td>\n",
              "      <td>1000.0</td>\n",
              "      <td>1000.0</td>\n",
              "      <td>0.0</td>\n",
              "      <td>2000.0</td>\n",
              "      <td>1.0</td>\n",
              "    </tr>\n",
              "    <tr>\n",
              "      <th>2</th>\n",
              "      <td>3</td>\n",
              "      <td>90000</td>\n",
              "      <td>2.0</td>\n",
              "      <td>2.0</td>\n",
              "      <td>2.0</td>\n",
              "      <td>34.0</td>\n",
              "      <td>0.0</td>\n",
              "      <td>0.0</td>\n",
              "      <td>0.0</td>\n",
              "      <td>0.0</td>\n",
              "      <td>0.0</td>\n",
              "      <td>0.0</td>\n",
              "      <td>29239.0</td>\n",
              "      <td>14027.0</td>\n",
              "      <td>13559.0</td>\n",
              "      <td>14331.0</td>\n",
              "      <td>14948.0</td>\n",
              "      <td>15549.0</td>\n",
              "      <td>1518.0</td>\n",
              "      <td>1500.0</td>\n",
              "      <td>1000.0</td>\n",
              "      <td>1000.0</td>\n",
              "      <td>1000.0</td>\n",
              "      <td>5000.0</td>\n",
              "      <td>0.0</td>\n",
              "    </tr>\n",
              "    <tr>\n",
              "      <th>3</th>\n",
              "      <td>4</td>\n",
              "      <td>50000</td>\n",
              "      <td>2.0</td>\n",
              "      <td>2.0</td>\n",
              "      <td>1.0</td>\n",
              "      <td>37.0</td>\n",
              "      <td>0.0</td>\n",
              "      <td>0.0</td>\n",
              "      <td>0.0</td>\n",
              "      <td>0.0</td>\n",
              "      <td>0.0</td>\n",
              "      <td>0.0</td>\n",
              "      <td>46990.0</td>\n",
              "      <td>48233.0</td>\n",
              "      <td>49291.0</td>\n",
              "      <td>28314.0</td>\n",
              "      <td>28959.0</td>\n",
              "      <td>29547.0</td>\n",
              "      <td>2000.0</td>\n",
              "      <td>2019.0</td>\n",
              "      <td>1200.0</td>\n",
              "      <td>1100.0</td>\n",
              "      <td>1069.0</td>\n",
              "      <td>1000.0</td>\n",
              "      <td>0.0</td>\n",
              "    </tr>\n",
              "    <tr>\n",
              "      <th>4</th>\n",
              "      <td>5</td>\n",
              "      <td>50000</td>\n",
              "      <td>1.0</td>\n",
              "      <td>2.0</td>\n",
              "      <td>1.0</td>\n",
              "      <td>57.0</td>\n",
              "      <td>-1.0</td>\n",
              "      <td>0.0</td>\n",
              "      <td>-1.0</td>\n",
              "      <td>0.0</td>\n",
              "      <td>0.0</td>\n",
              "      <td>0.0</td>\n",
              "      <td>8617.0</td>\n",
              "      <td>5670.0</td>\n",
              "      <td>35835.0</td>\n",
              "      <td>20940.0</td>\n",
              "      <td>19146.0</td>\n",
              "      <td>19131.0</td>\n",
              "      <td>2000.0</td>\n",
              "      <td>36681.0</td>\n",
              "      <td>10000.0</td>\n",
              "      <td>9000.0</td>\n",
              "      <td>689.0</td>\n",
              "      <td>679.0</td>\n",
              "      <td>0.0</td>\n",
              "    </tr>\n",
              "  </tbody>\n",
              "</table>\n",
              "</div>\n",
              "      <button class=\"colab-df-convert\" onclick=\"convertToInteractive('df-1ea1635c-dba7-4a62-9bbd-0e04c2bf8353')\"\n",
              "              title=\"Convert this dataframe to an interactive table.\"\n",
              "              style=\"display:none;\">\n",
              "        \n",
              "  <svg xmlns=\"http://www.w3.org/2000/svg\" height=\"24px\"viewBox=\"0 0 24 24\"\n",
              "       width=\"24px\">\n",
              "    <path d=\"M0 0h24v24H0V0z\" fill=\"none\"/>\n",
              "    <path d=\"M18.56 5.44l.94 2.06.94-2.06 2.06-.94-2.06-.94-.94-2.06-.94 2.06-2.06.94zm-11 1L8.5 8.5l.94-2.06 2.06-.94-2.06-.94L8.5 2.5l-.94 2.06-2.06.94zm10 10l.94 2.06.94-2.06 2.06-.94-2.06-.94-.94-2.06-.94 2.06-2.06.94z\"/><path d=\"M17.41 7.96l-1.37-1.37c-.4-.4-.92-.59-1.43-.59-.52 0-1.04.2-1.43.59L10.3 9.45l-7.72 7.72c-.78.78-.78 2.05 0 2.83L4 21.41c.39.39.9.59 1.41.59.51 0 1.02-.2 1.41-.59l7.78-7.78 2.81-2.81c.8-.78.8-2.07 0-2.86zM5.41 20L4 18.59l7.72-7.72 1.47 1.35L5.41 20z\"/>\n",
              "  </svg>\n",
              "      </button>\n",
              "      \n",
              "  <style>\n",
              "    .colab-df-container {\n",
              "      display:flex;\n",
              "      flex-wrap:wrap;\n",
              "      gap: 12px;\n",
              "    }\n",
              "\n",
              "    .colab-df-convert {\n",
              "      background-color: #E8F0FE;\n",
              "      border: none;\n",
              "      border-radius: 50%;\n",
              "      cursor: pointer;\n",
              "      display: none;\n",
              "      fill: #1967D2;\n",
              "      height: 32px;\n",
              "      padding: 0 0 0 0;\n",
              "      width: 32px;\n",
              "    }\n",
              "\n",
              "    .colab-df-convert:hover {\n",
              "      background-color: #E2EBFA;\n",
              "      box-shadow: 0px 1px 2px rgba(60, 64, 67, 0.3), 0px 1px 3px 1px rgba(60, 64, 67, 0.15);\n",
              "      fill: #174EA6;\n",
              "    }\n",
              "\n",
              "    [theme=dark] .colab-df-convert {\n",
              "      background-color: #3B4455;\n",
              "      fill: #D2E3FC;\n",
              "    }\n",
              "\n",
              "    [theme=dark] .colab-df-convert:hover {\n",
              "      background-color: #434B5C;\n",
              "      box-shadow: 0px 1px 3px 1px rgba(0, 0, 0, 0.15);\n",
              "      filter: drop-shadow(0px 1px 2px rgba(0, 0, 0, 0.3));\n",
              "      fill: #FFFFFF;\n",
              "    }\n",
              "  </style>\n",
              "\n",
              "      <script>\n",
              "        const buttonEl =\n",
              "          document.querySelector('#df-1ea1635c-dba7-4a62-9bbd-0e04c2bf8353 button.colab-df-convert');\n",
              "        buttonEl.style.display =\n",
              "          google.colab.kernel.accessAllowed ? 'block' : 'none';\n",
              "\n",
              "        async function convertToInteractive(key) {\n",
              "          const element = document.querySelector('#df-1ea1635c-dba7-4a62-9bbd-0e04c2bf8353');\n",
              "          const dataTable =\n",
              "            await google.colab.kernel.invokeFunction('convertToInteractive',\n",
              "                                                     [key], {});\n",
              "          if (!dataTable) return;\n",
              "\n",
              "          const docLinkHtml = 'Like what you see? Visit the ' +\n",
              "            '<a target=\"_blank\" href=https://colab.research.google.com/notebooks/data_table.ipynb>data table notebook</a>'\n",
              "            + ' to learn more about interactive tables.';\n",
              "          element.innerHTML = '';\n",
              "          dataTable['output_type'] = 'display_data';\n",
              "          await google.colab.output.renderOutput(dataTable, element);\n",
              "          const docLink = document.createElement('div');\n",
              "          docLink.innerHTML = docLinkHtml;\n",
              "          element.appendChild(docLink);\n",
              "        }\n",
              "      </script>\n",
              "    </div>\n",
              "  </div>\n",
              "  "
            ]
          },
          "metadata": {},
          "execution_count": 229
        }
      ]
    },
    {
      "cell_type": "code",
      "source": [
        "df.shape"
      ],
      "metadata": {
        "colab": {
          "base_uri": "https://localhost:8080/"
        },
        "id": "nqS4A8h1nyO1",
        "outputId": "ce6760b6-04a7-454c-bc36-5c9fb524691a"
      },
      "execution_count": 230,
      "outputs": [
        {
          "output_type": "execute_result",
          "data": {
            "text/plain": [
              "(30000, 25)"
            ]
          },
          "metadata": {},
          "execution_count": 230
        }
      ]
    },
    {
      "cell_type": "code",
      "source": [
        "df.columns"
      ],
      "metadata": {
        "colab": {
          "base_uri": "https://localhost:8080/"
        },
        "id": "XXu5lqcmmvij",
        "outputId": "bd65893f-582b-425c-823f-7ffb89657b5e"
      },
      "execution_count": 231,
      "outputs": [
        {
          "output_type": "execute_result",
          "data": {
            "text/plain": [
              "Index(['ID', 'X1', 'X2', 'X3', 'X4', 'X5', 'X6', 'X7', 'X8', 'X9', 'X10',\n",
              "       'X11', 'X12', 'X13', 'X14', 'X15', 'X16', 'X17', 'X18', 'X19', 'X20',\n",
              "       'X21', 'X22', 'X23', 'Y'],\n",
              "      dtype='object')"
            ]
          },
          "metadata": {},
          "execution_count": 231
        }
      ]
    },
    {
      "cell_type": "code",
      "source": [
        "df.dtypes"
      ],
      "metadata": {
        "colab": {
          "base_uri": "https://localhost:8080/"
        },
        "id": "GOxrg0zNm2us",
        "outputId": "a2937c3a-7c71-482b-9b63-ec9aeaf8c2ad"
      },
      "execution_count": 232,
      "outputs": [
        {
          "output_type": "execute_result",
          "data": {
            "text/plain": [
              "ID       int64\n",
              "X1       int64\n",
              "X2     float64\n",
              "X3     float64\n",
              "X4     float64\n",
              "X5     float64\n",
              "X6     float64\n",
              "X7     float64\n",
              "X8     float64\n",
              "X9     float64\n",
              "X10    float64\n",
              "X11    float64\n",
              "X12    float64\n",
              "X13    float64\n",
              "X14    float64\n",
              "X15    float64\n",
              "X16    float64\n",
              "X17    float64\n",
              "X18    float64\n",
              "X19    float64\n",
              "X20    float64\n",
              "X21    float64\n",
              "X22    float64\n",
              "X23    float64\n",
              "Y      float64\n",
              "dtype: object"
            ]
          },
          "metadata": {},
          "execution_count": 232
        }
      ]
    },
    {
      "cell_type": "code",
      "source": [
        "df.info()"
      ],
      "metadata": {
        "colab": {
          "base_uri": "https://localhost:8080/"
        },
        "id": "csF62YD5nVan",
        "outputId": "9621700d-3cc1-498c-fb9d-fbff78562dd0"
      },
      "execution_count": 233,
      "outputs": [
        {
          "output_type": "stream",
          "name": "stdout",
          "text": [
            "<class 'pandas.core.frame.DataFrame'>\n",
            "RangeIndex: 30000 entries, 0 to 29999\n",
            "Data columns (total 25 columns):\n",
            " #   Column  Non-Null Count  Dtype  \n",
            "---  ------  --------------  -----  \n",
            " 0   ID      30000 non-null  int64  \n",
            " 1   X1      30000 non-null  int64  \n",
            " 2   X2      29999 non-null  float64\n",
            " 3   X3      29998 non-null  float64\n",
            " 4   X4      29998 non-null  float64\n",
            " 5   X5      29995 non-null  float64\n",
            " 6   X6      29997 non-null  float64\n",
            " 7   X7      29995 non-null  float64\n",
            " 8   X8      29993 non-null  float64\n",
            " 9   X9      29991 non-null  float64\n",
            " 10  X10     29984 non-null  float64\n",
            " 11  X11     29986 non-null  float64\n",
            " 12  X12     29989 non-null  float64\n",
            " 13  X13     29989 non-null  float64\n",
            " 14  X14     29987 non-null  float64\n",
            " 15  X15     29985 non-null  float64\n",
            " 16  X16     29983 non-null  float64\n",
            " 17  X17     29990 non-null  float64\n",
            " 18  X18     29992 non-null  float64\n",
            " 19  X19     29991 non-null  float64\n",
            " 20  X20     29992 non-null  float64\n",
            " 21  X21     29989 non-null  float64\n",
            " 22  X22     29989 non-null  float64\n",
            " 23  X23     29995 non-null  float64\n",
            " 24  Y       29997 non-null  float64\n",
            "dtypes: float64(23), int64(2)\n",
            "memory usage: 5.7 MB\n"
          ]
        }
      ]
    },
    {
      "cell_type": "code",
      "source": [
        "df[df.isna().any(axis=1)].head()\n"
      ],
      "metadata": {
        "colab": {
          "base_uri": "https://localhost:8080/",
          "height": 250
        },
        "id": "2lU5i7kDngl4",
        "outputId": "4fe23b0e-54a7-4433-9653-edc293370b37"
      },
      "execution_count": 234,
      "outputs": [
        {
          "output_type": "execute_result",
          "data": {
            "text/plain": [
              "      ID      X1   X2   X3   X4    X5   X6   X7   X8   X9  X10  X11      X12  \\\n",
              "18    19  360000  2.0  1.0  1.0  49.0  1.0 -2.0 -2.0 -2.0 -2.0 -2.0      NaN   \n",
              "38    39   50000  1.0  1.0  2.0  25.0  1.0 -1.0 -1.0 -2.0 -2.0 -2.0      0.0   \n",
              "49    50   20000  1.0  1.0  2.0  24.0  0.0  0.0  0.0  0.0  NaN  0.0  17447.0   \n",
              "64    65  130000  2.0  2.0  1.0  51.0 -1.0 -1.0 -2.0 -2.0 -1.0 -1.0     99.0   \n",
              "160  161   30000  1.0  1.0  2.0  41.0  2.0  2.0  2.0  NaN  2.0  0.0  24357.0   \n",
              "\n",
              "         X13      X14      X15      X16      X17     X18     X19     X20  \\\n",
              "18       NaN      NaN      NaN      NaN      NaN     0.0     0.0     0.0   \n",
              "38     780.0      0.0      0.0      0.0      NaN   780.0     0.0     0.0   \n",
              "49   18479.0  19476.0  19865.0  20480.0  20063.0  1318.0  1315.0   704.0   \n",
              "64       0.0      0.0      0.0   2353.0      0.0     0.0     NaN     0.0   \n",
              "160  27453.0  26718.0  28168.0  27579.0  28321.0  3500.0     0.0  2200.0   \n",
              "\n",
              "        X21     X22     X23    Y  \n",
              "18      0.0     0.0     0.0  0.0  \n",
              "38      0.0     0.0     0.0  1.0  \n",
              "49    928.0   912.0  1069.0  0.0  \n",
              "64   2353.0     0.0     0.0  0.0  \n",
              "160     NaN  1200.0  1250.0  0.0  "
            ],
            "text/html": [
              "\n",
              "  <div id=\"df-3a9d7059-d2c5-4b7a-a4c8-0e3d5946831e\">\n",
              "    <div class=\"colab-df-container\">\n",
              "      <div>\n",
              "<style scoped>\n",
              "    .dataframe tbody tr th:only-of-type {\n",
              "        vertical-align: middle;\n",
              "    }\n",
              "\n",
              "    .dataframe tbody tr th {\n",
              "        vertical-align: top;\n",
              "    }\n",
              "\n",
              "    .dataframe thead th {\n",
              "        text-align: right;\n",
              "    }\n",
              "</style>\n",
              "<table border=\"1\" class=\"dataframe\">\n",
              "  <thead>\n",
              "    <tr style=\"text-align: right;\">\n",
              "      <th></th>\n",
              "      <th>ID</th>\n",
              "      <th>X1</th>\n",
              "      <th>X2</th>\n",
              "      <th>X3</th>\n",
              "      <th>X4</th>\n",
              "      <th>X5</th>\n",
              "      <th>X6</th>\n",
              "      <th>X7</th>\n",
              "      <th>X8</th>\n",
              "      <th>X9</th>\n",
              "      <th>X10</th>\n",
              "      <th>X11</th>\n",
              "      <th>X12</th>\n",
              "      <th>X13</th>\n",
              "      <th>X14</th>\n",
              "      <th>X15</th>\n",
              "      <th>X16</th>\n",
              "      <th>X17</th>\n",
              "      <th>X18</th>\n",
              "      <th>X19</th>\n",
              "      <th>X20</th>\n",
              "      <th>X21</th>\n",
              "      <th>X22</th>\n",
              "      <th>X23</th>\n",
              "      <th>Y</th>\n",
              "    </tr>\n",
              "  </thead>\n",
              "  <tbody>\n",
              "    <tr>\n",
              "      <th>18</th>\n",
              "      <td>19</td>\n",
              "      <td>360000</td>\n",
              "      <td>2.0</td>\n",
              "      <td>1.0</td>\n",
              "      <td>1.0</td>\n",
              "      <td>49.0</td>\n",
              "      <td>1.0</td>\n",
              "      <td>-2.0</td>\n",
              "      <td>-2.0</td>\n",
              "      <td>-2.0</td>\n",
              "      <td>-2.0</td>\n",
              "      <td>-2.0</td>\n",
              "      <td>NaN</td>\n",
              "      <td>NaN</td>\n",
              "      <td>NaN</td>\n",
              "      <td>NaN</td>\n",
              "      <td>NaN</td>\n",
              "      <td>NaN</td>\n",
              "      <td>0.0</td>\n",
              "      <td>0.0</td>\n",
              "      <td>0.0</td>\n",
              "      <td>0.0</td>\n",
              "      <td>0.0</td>\n",
              "      <td>0.0</td>\n",
              "      <td>0.0</td>\n",
              "    </tr>\n",
              "    <tr>\n",
              "      <th>38</th>\n",
              "      <td>39</td>\n",
              "      <td>50000</td>\n",
              "      <td>1.0</td>\n",
              "      <td>1.0</td>\n",
              "      <td>2.0</td>\n",
              "      <td>25.0</td>\n",
              "      <td>1.0</td>\n",
              "      <td>-1.0</td>\n",
              "      <td>-1.0</td>\n",
              "      <td>-2.0</td>\n",
              "      <td>-2.0</td>\n",
              "      <td>-2.0</td>\n",
              "      <td>0.0</td>\n",
              "      <td>780.0</td>\n",
              "      <td>0.0</td>\n",
              "      <td>0.0</td>\n",
              "      <td>0.0</td>\n",
              "      <td>NaN</td>\n",
              "      <td>780.0</td>\n",
              "      <td>0.0</td>\n",
              "      <td>0.0</td>\n",
              "      <td>0.0</td>\n",
              "      <td>0.0</td>\n",
              "      <td>0.0</td>\n",
              "      <td>1.0</td>\n",
              "    </tr>\n",
              "    <tr>\n",
              "      <th>49</th>\n",
              "      <td>50</td>\n",
              "      <td>20000</td>\n",
              "      <td>1.0</td>\n",
              "      <td>1.0</td>\n",
              "      <td>2.0</td>\n",
              "      <td>24.0</td>\n",
              "      <td>0.0</td>\n",
              "      <td>0.0</td>\n",
              "      <td>0.0</td>\n",
              "      <td>0.0</td>\n",
              "      <td>NaN</td>\n",
              "      <td>0.0</td>\n",
              "      <td>17447.0</td>\n",
              "      <td>18479.0</td>\n",
              "      <td>19476.0</td>\n",
              "      <td>19865.0</td>\n",
              "      <td>20480.0</td>\n",
              "      <td>20063.0</td>\n",
              "      <td>1318.0</td>\n",
              "      <td>1315.0</td>\n",
              "      <td>704.0</td>\n",
              "      <td>928.0</td>\n",
              "      <td>912.0</td>\n",
              "      <td>1069.0</td>\n",
              "      <td>0.0</td>\n",
              "    </tr>\n",
              "    <tr>\n",
              "      <th>64</th>\n",
              "      <td>65</td>\n",
              "      <td>130000</td>\n",
              "      <td>2.0</td>\n",
              "      <td>2.0</td>\n",
              "      <td>1.0</td>\n",
              "      <td>51.0</td>\n",
              "      <td>-1.0</td>\n",
              "      <td>-1.0</td>\n",
              "      <td>-2.0</td>\n",
              "      <td>-2.0</td>\n",
              "      <td>-1.0</td>\n",
              "      <td>-1.0</td>\n",
              "      <td>99.0</td>\n",
              "      <td>0.0</td>\n",
              "      <td>0.0</td>\n",
              "      <td>0.0</td>\n",
              "      <td>2353.0</td>\n",
              "      <td>0.0</td>\n",
              "      <td>0.0</td>\n",
              "      <td>NaN</td>\n",
              "      <td>0.0</td>\n",
              "      <td>2353.0</td>\n",
              "      <td>0.0</td>\n",
              "      <td>0.0</td>\n",
              "      <td>0.0</td>\n",
              "    </tr>\n",
              "    <tr>\n",
              "      <th>160</th>\n",
              "      <td>161</td>\n",
              "      <td>30000</td>\n",
              "      <td>1.0</td>\n",
              "      <td>1.0</td>\n",
              "      <td>2.0</td>\n",
              "      <td>41.0</td>\n",
              "      <td>2.0</td>\n",
              "      <td>2.0</td>\n",
              "      <td>2.0</td>\n",
              "      <td>NaN</td>\n",
              "      <td>2.0</td>\n",
              "      <td>0.0</td>\n",
              "      <td>24357.0</td>\n",
              "      <td>27453.0</td>\n",
              "      <td>26718.0</td>\n",
              "      <td>28168.0</td>\n",
              "      <td>27579.0</td>\n",
              "      <td>28321.0</td>\n",
              "      <td>3500.0</td>\n",
              "      <td>0.0</td>\n",
              "      <td>2200.0</td>\n",
              "      <td>NaN</td>\n",
              "      <td>1200.0</td>\n",
              "      <td>1250.0</td>\n",
              "      <td>0.0</td>\n",
              "    </tr>\n",
              "  </tbody>\n",
              "</table>\n",
              "</div>\n",
              "      <button class=\"colab-df-convert\" onclick=\"convertToInteractive('df-3a9d7059-d2c5-4b7a-a4c8-0e3d5946831e')\"\n",
              "              title=\"Convert this dataframe to an interactive table.\"\n",
              "              style=\"display:none;\">\n",
              "        \n",
              "  <svg xmlns=\"http://www.w3.org/2000/svg\" height=\"24px\"viewBox=\"0 0 24 24\"\n",
              "       width=\"24px\">\n",
              "    <path d=\"M0 0h24v24H0V0z\" fill=\"none\"/>\n",
              "    <path d=\"M18.56 5.44l.94 2.06.94-2.06 2.06-.94-2.06-.94-.94-2.06-.94 2.06-2.06.94zm-11 1L8.5 8.5l.94-2.06 2.06-.94-2.06-.94L8.5 2.5l-.94 2.06-2.06.94zm10 10l.94 2.06.94-2.06 2.06-.94-2.06-.94-.94-2.06-.94 2.06-2.06.94z\"/><path d=\"M17.41 7.96l-1.37-1.37c-.4-.4-.92-.59-1.43-.59-.52 0-1.04.2-1.43.59L10.3 9.45l-7.72 7.72c-.78.78-.78 2.05 0 2.83L4 21.41c.39.39.9.59 1.41.59.51 0 1.02-.2 1.41-.59l7.78-7.78 2.81-2.81c.8-.78.8-2.07 0-2.86zM5.41 20L4 18.59l7.72-7.72 1.47 1.35L5.41 20z\"/>\n",
              "  </svg>\n",
              "      </button>\n",
              "      \n",
              "  <style>\n",
              "    .colab-df-container {\n",
              "      display:flex;\n",
              "      flex-wrap:wrap;\n",
              "      gap: 12px;\n",
              "    }\n",
              "\n",
              "    .colab-df-convert {\n",
              "      background-color: #E8F0FE;\n",
              "      border: none;\n",
              "      border-radius: 50%;\n",
              "      cursor: pointer;\n",
              "      display: none;\n",
              "      fill: #1967D2;\n",
              "      height: 32px;\n",
              "      padding: 0 0 0 0;\n",
              "      width: 32px;\n",
              "    }\n",
              "\n",
              "    .colab-df-convert:hover {\n",
              "      background-color: #E2EBFA;\n",
              "      box-shadow: 0px 1px 2px rgba(60, 64, 67, 0.3), 0px 1px 3px 1px rgba(60, 64, 67, 0.15);\n",
              "      fill: #174EA6;\n",
              "    }\n",
              "\n",
              "    [theme=dark] .colab-df-convert {\n",
              "      background-color: #3B4455;\n",
              "      fill: #D2E3FC;\n",
              "    }\n",
              "\n",
              "    [theme=dark] .colab-df-convert:hover {\n",
              "      background-color: #434B5C;\n",
              "      box-shadow: 0px 1px 3px 1px rgba(0, 0, 0, 0.15);\n",
              "      filter: drop-shadow(0px 1px 2px rgba(0, 0, 0, 0.3));\n",
              "      fill: #FFFFFF;\n",
              "    }\n",
              "  </style>\n",
              "\n",
              "      <script>\n",
              "        const buttonEl =\n",
              "          document.querySelector('#df-3a9d7059-d2c5-4b7a-a4c8-0e3d5946831e button.colab-df-convert');\n",
              "        buttonEl.style.display =\n",
              "          google.colab.kernel.accessAllowed ? 'block' : 'none';\n",
              "\n",
              "        async function convertToInteractive(key) {\n",
              "          const element = document.querySelector('#df-3a9d7059-d2c5-4b7a-a4c8-0e3d5946831e');\n",
              "          const dataTable =\n",
              "            await google.colab.kernel.invokeFunction('convertToInteractive',\n",
              "                                                     [key], {});\n",
              "          if (!dataTable) return;\n",
              "\n",
              "          const docLinkHtml = 'Like what you see? Visit the ' +\n",
              "            '<a target=\"_blank\" href=https://colab.research.google.com/notebooks/data_table.ipynb>data table notebook</a>'\n",
              "            + ' to learn more about interactive tables.';\n",
              "          element.innerHTML = '';\n",
              "          dataTable['output_type'] = 'display_data';\n",
              "          await google.colab.output.renderOutput(dataTable, element);\n",
              "          const docLink = document.createElement('div');\n",
              "          docLink.innerHTML = docLinkHtml;\n",
              "          element.appendChild(docLink);\n",
              "        }\n",
              "      </script>\n",
              "    </div>\n",
              "  </div>\n",
              "  "
            ]
          },
          "metadata": {},
          "execution_count": 234
        }
      ]
    },
    {
      "cell_type": "markdown",
      "source": [
        "## Limpia los datos eliminando los registros nulos o rellena con la media de la columna"
      ],
      "metadata": {
        "id": "pMhl5nQSmLCY"
      }
    },
    {
      "cell_type": "code",
      "source": [
        "df.dropna(inplace=True)                     #Al ser pocas filas que contienen datos nulos voy a borrar todas las filas que contienen nan\n",
        "df.reset_index(drop=True, inplace=True)     #Resetea el indice por las filas que se borraron\n",
        "df.shape\n"
      ],
      "metadata": {
        "colab": {
          "base_uri": "https://localhost:8080/"
        },
        "id": "LSGyVdwZVqEs",
        "outputId": "328b5fbb-6ba2-49d1-c233-5596f6240cce"
      },
      "execution_count": 235,
      "outputs": [
        {
          "output_type": "execute_result",
          "data": {
            "text/plain": [
              "(29958, 25)"
            ]
          },
          "metadata": {},
          "execution_count": 235
        }
      ]
    },
    {
      "cell_type": "markdown",
      "source": [
        "## Calcula la estadística descriptiva con describe() y explica las medidas de tendencia central y dispersión"
      ],
      "metadata": {
        "id": "DwDrK2HTmQvt"
      }
    },
    {
      "cell_type": "code",
      "source": [
        "ndf=df.loc[:,'X12':'X23']\n",
        "ndf.insert(0, 'X5',df.X5)\n",
        "ndf\n",
        "ndf.describe().round(2)  # Estadísticas de variables no categoricas\n"
      ],
      "metadata": {
        "colab": {
          "base_uri": "https://localhost:8080/",
          "height": 300
        },
        "id": "t9LivC2MjuoT",
        "outputId": "d5eafd44-6e60-474b-e1c8-780cba16f2d3"
      },
      "execution_count": 236,
      "outputs": [
        {
          "output_type": "execute_result",
          "data": {
            "text/plain": [
              "             X5        X12        X13         X14        X15        X16  \\\n",
              "count  29958.00   29958.00   29958.00    29958.00   29958.00   29958.00   \n",
              "mean      35.48   51248.12   49200.49    47032.39   43279.34   40328.98   \n",
              "std        9.21   73674.95   71211.23    69385.24   64364.68   60826.22   \n",
              "min       21.00 -165580.00  -69777.00  -157264.00 -170000.00  -81334.00   \n",
              "25%       28.00    3559.25    2984.00     2664.75    2327.50    1762.25   \n",
              "50%       34.00   22379.00   21194.50    20085.50   19037.50   18104.50   \n",
              "75%       41.00   67190.00   64027.75    60183.00   54551.25   50220.75   \n",
              "max       79.00  964511.00  983931.00  1664089.00  891586.00  927171.00   \n",
              "\n",
              "             X17        X18         X19        X20        X21        X22  \\\n",
              "count   29958.00   29958.00    29958.00   29958.00   29958.00   29958.00   \n",
              "mean    38889.93    5664.61     5925.72    5228.43    4829.87    4801.48   \n",
              "std     59582.88   16568.82    23055.98   17617.34   15676.21   15285.55   \n",
              "min   -339603.00       0.00        0.00       0.00       0.00       0.00   \n",
              "25%      1256.00    1000.00      835.25     390.00     296.25     253.25   \n",
              "50%     17067.50    2100.00     2009.00    1800.00    1500.00    1500.00   \n",
              "75%     49234.75    5007.00     5000.00    4511.50    4014.75    4040.00   \n",
              "max    961664.00  873552.00  1684259.00  896040.00  621000.00  426529.00   \n",
              "\n",
              "             X23  \n",
              "count   29958.00  \n",
              "mean     5220.71  \n",
              "std     17788.98  \n",
              "min         0.00  \n",
              "25%       118.00  \n",
              "50%      1500.00  \n",
              "75%      4000.00  \n",
              "max    528666.00  "
            ],
            "text/html": [
              "\n",
              "  <div id=\"df-6dd2ce19-3ae0-4b6a-8ab0-e3526c95b9be\">\n",
              "    <div class=\"colab-df-container\">\n",
              "      <div>\n",
              "<style scoped>\n",
              "    .dataframe tbody tr th:only-of-type {\n",
              "        vertical-align: middle;\n",
              "    }\n",
              "\n",
              "    .dataframe tbody tr th {\n",
              "        vertical-align: top;\n",
              "    }\n",
              "\n",
              "    .dataframe thead th {\n",
              "        text-align: right;\n",
              "    }\n",
              "</style>\n",
              "<table border=\"1\" class=\"dataframe\">\n",
              "  <thead>\n",
              "    <tr style=\"text-align: right;\">\n",
              "      <th></th>\n",
              "      <th>X5</th>\n",
              "      <th>X12</th>\n",
              "      <th>X13</th>\n",
              "      <th>X14</th>\n",
              "      <th>X15</th>\n",
              "      <th>X16</th>\n",
              "      <th>X17</th>\n",
              "      <th>X18</th>\n",
              "      <th>X19</th>\n",
              "      <th>X20</th>\n",
              "      <th>X21</th>\n",
              "      <th>X22</th>\n",
              "      <th>X23</th>\n",
              "    </tr>\n",
              "  </thead>\n",
              "  <tbody>\n",
              "    <tr>\n",
              "      <th>count</th>\n",
              "      <td>29958.00</td>\n",
              "      <td>29958.00</td>\n",
              "      <td>29958.00</td>\n",
              "      <td>29958.00</td>\n",
              "      <td>29958.00</td>\n",
              "      <td>29958.00</td>\n",
              "      <td>29958.00</td>\n",
              "      <td>29958.00</td>\n",
              "      <td>29958.00</td>\n",
              "      <td>29958.00</td>\n",
              "      <td>29958.00</td>\n",
              "      <td>29958.00</td>\n",
              "      <td>29958.00</td>\n",
              "    </tr>\n",
              "    <tr>\n",
              "      <th>mean</th>\n",
              "      <td>35.48</td>\n",
              "      <td>51248.12</td>\n",
              "      <td>49200.49</td>\n",
              "      <td>47032.39</td>\n",
              "      <td>43279.34</td>\n",
              "      <td>40328.98</td>\n",
              "      <td>38889.93</td>\n",
              "      <td>5664.61</td>\n",
              "      <td>5925.72</td>\n",
              "      <td>5228.43</td>\n",
              "      <td>4829.87</td>\n",
              "      <td>4801.48</td>\n",
              "      <td>5220.71</td>\n",
              "    </tr>\n",
              "    <tr>\n",
              "      <th>std</th>\n",
              "      <td>9.21</td>\n",
              "      <td>73674.95</td>\n",
              "      <td>71211.23</td>\n",
              "      <td>69385.24</td>\n",
              "      <td>64364.68</td>\n",
              "      <td>60826.22</td>\n",
              "      <td>59582.88</td>\n",
              "      <td>16568.82</td>\n",
              "      <td>23055.98</td>\n",
              "      <td>17617.34</td>\n",
              "      <td>15676.21</td>\n",
              "      <td>15285.55</td>\n",
              "      <td>17788.98</td>\n",
              "    </tr>\n",
              "    <tr>\n",
              "      <th>min</th>\n",
              "      <td>21.00</td>\n",
              "      <td>-165580.00</td>\n",
              "      <td>-69777.00</td>\n",
              "      <td>-157264.00</td>\n",
              "      <td>-170000.00</td>\n",
              "      <td>-81334.00</td>\n",
              "      <td>-339603.00</td>\n",
              "      <td>0.00</td>\n",
              "      <td>0.00</td>\n",
              "      <td>0.00</td>\n",
              "      <td>0.00</td>\n",
              "      <td>0.00</td>\n",
              "      <td>0.00</td>\n",
              "    </tr>\n",
              "    <tr>\n",
              "      <th>25%</th>\n",
              "      <td>28.00</td>\n",
              "      <td>3559.25</td>\n",
              "      <td>2984.00</td>\n",
              "      <td>2664.75</td>\n",
              "      <td>2327.50</td>\n",
              "      <td>1762.25</td>\n",
              "      <td>1256.00</td>\n",
              "      <td>1000.00</td>\n",
              "      <td>835.25</td>\n",
              "      <td>390.00</td>\n",
              "      <td>296.25</td>\n",
              "      <td>253.25</td>\n",
              "      <td>118.00</td>\n",
              "    </tr>\n",
              "    <tr>\n",
              "      <th>50%</th>\n",
              "      <td>34.00</td>\n",
              "      <td>22379.00</td>\n",
              "      <td>21194.50</td>\n",
              "      <td>20085.50</td>\n",
              "      <td>19037.50</td>\n",
              "      <td>18104.50</td>\n",
              "      <td>17067.50</td>\n",
              "      <td>2100.00</td>\n",
              "      <td>2009.00</td>\n",
              "      <td>1800.00</td>\n",
              "      <td>1500.00</td>\n",
              "      <td>1500.00</td>\n",
              "      <td>1500.00</td>\n",
              "    </tr>\n",
              "    <tr>\n",
              "      <th>75%</th>\n",
              "      <td>41.00</td>\n",
              "      <td>67190.00</td>\n",
              "      <td>64027.75</td>\n",
              "      <td>60183.00</td>\n",
              "      <td>54551.25</td>\n",
              "      <td>50220.75</td>\n",
              "      <td>49234.75</td>\n",
              "      <td>5007.00</td>\n",
              "      <td>5000.00</td>\n",
              "      <td>4511.50</td>\n",
              "      <td>4014.75</td>\n",
              "      <td>4040.00</td>\n",
              "      <td>4000.00</td>\n",
              "    </tr>\n",
              "    <tr>\n",
              "      <th>max</th>\n",
              "      <td>79.00</td>\n",
              "      <td>964511.00</td>\n",
              "      <td>983931.00</td>\n",
              "      <td>1664089.00</td>\n",
              "      <td>891586.00</td>\n",
              "      <td>927171.00</td>\n",
              "      <td>961664.00</td>\n",
              "      <td>873552.00</td>\n",
              "      <td>1684259.00</td>\n",
              "      <td>896040.00</td>\n",
              "      <td>621000.00</td>\n",
              "      <td>426529.00</td>\n",
              "      <td>528666.00</td>\n",
              "    </tr>\n",
              "  </tbody>\n",
              "</table>\n",
              "</div>\n",
              "      <button class=\"colab-df-convert\" onclick=\"convertToInteractive('df-6dd2ce19-3ae0-4b6a-8ab0-e3526c95b9be')\"\n",
              "              title=\"Convert this dataframe to an interactive table.\"\n",
              "              style=\"display:none;\">\n",
              "        \n",
              "  <svg xmlns=\"http://www.w3.org/2000/svg\" height=\"24px\"viewBox=\"0 0 24 24\"\n",
              "       width=\"24px\">\n",
              "    <path d=\"M0 0h24v24H0V0z\" fill=\"none\"/>\n",
              "    <path d=\"M18.56 5.44l.94 2.06.94-2.06 2.06-.94-2.06-.94-.94-2.06-.94 2.06-2.06.94zm-11 1L8.5 8.5l.94-2.06 2.06-.94-2.06-.94L8.5 2.5l-.94 2.06-2.06.94zm10 10l.94 2.06.94-2.06 2.06-.94-2.06-.94-.94-2.06-.94 2.06-2.06.94z\"/><path d=\"M17.41 7.96l-1.37-1.37c-.4-.4-.92-.59-1.43-.59-.52 0-1.04.2-1.43.59L10.3 9.45l-7.72 7.72c-.78.78-.78 2.05 0 2.83L4 21.41c.39.39.9.59 1.41.59.51 0 1.02-.2 1.41-.59l7.78-7.78 2.81-2.81c.8-.78.8-2.07 0-2.86zM5.41 20L4 18.59l7.72-7.72 1.47 1.35L5.41 20z\"/>\n",
              "  </svg>\n",
              "      </button>\n",
              "      \n",
              "  <style>\n",
              "    .colab-df-container {\n",
              "      display:flex;\n",
              "      flex-wrap:wrap;\n",
              "      gap: 12px;\n",
              "    }\n",
              "\n",
              "    .colab-df-convert {\n",
              "      background-color: #E8F0FE;\n",
              "      border: none;\n",
              "      border-radius: 50%;\n",
              "      cursor: pointer;\n",
              "      display: none;\n",
              "      fill: #1967D2;\n",
              "      height: 32px;\n",
              "      padding: 0 0 0 0;\n",
              "      width: 32px;\n",
              "    }\n",
              "\n",
              "    .colab-df-convert:hover {\n",
              "      background-color: #E2EBFA;\n",
              "      box-shadow: 0px 1px 2px rgba(60, 64, 67, 0.3), 0px 1px 3px 1px rgba(60, 64, 67, 0.15);\n",
              "      fill: #174EA6;\n",
              "    }\n",
              "\n",
              "    [theme=dark] .colab-df-convert {\n",
              "      background-color: #3B4455;\n",
              "      fill: #D2E3FC;\n",
              "    }\n",
              "\n",
              "    [theme=dark] .colab-df-convert:hover {\n",
              "      background-color: #434B5C;\n",
              "      box-shadow: 0px 1px 3px 1px rgba(0, 0, 0, 0.15);\n",
              "      filter: drop-shadow(0px 1px 2px rgba(0, 0, 0, 0.3));\n",
              "      fill: #FFFFFF;\n",
              "    }\n",
              "  </style>\n",
              "\n",
              "      <script>\n",
              "        const buttonEl =\n",
              "          document.querySelector('#df-6dd2ce19-3ae0-4b6a-8ab0-e3526c95b9be button.colab-df-convert');\n",
              "        buttonEl.style.display =\n",
              "          google.colab.kernel.accessAllowed ? 'block' : 'none';\n",
              "\n",
              "        async function convertToInteractive(key) {\n",
              "          const element = document.querySelector('#df-6dd2ce19-3ae0-4b6a-8ab0-e3526c95b9be');\n",
              "          const dataTable =\n",
              "            await google.colab.kernel.invokeFunction('convertToInteractive',\n",
              "                                                     [key], {});\n",
              "          if (!dataTable) return;\n",
              "\n",
              "          const docLinkHtml = 'Like what you see? Visit the ' +\n",
              "            '<a target=\"_blank\" href=https://colab.research.google.com/notebooks/data_table.ipynb>data table notebook</a>'\n",
              "            + ' to learn more about interactive tables.';\n",
              "          element.innerHTML = '';\n",
              "          dataTable['output_type'] = 'display_data';\n",
              "          await google.colab.output.renderOutput(dataTable, element);\n",
              "          const docLink = document.createElement('div');\n",
              "          docLink.innerHTML = docLinkHtml;\n",
              "          element.appendChild(docLink);\n",
              "        }\n",
              "      </script>\n",
              "    </div>\n",
              "  </div>\n",
              "  "
            ]
          },
          "metadata": {},
          "execution_count": 236
        }
      ]
    },
    {
      "cell_type": "markdown",
      "source": [
        "X5 (Edad): Está dispersa con una media de 35 años en todo el rango aunque esta más inclinada al lado izquierdo en el cuarto cuartíl.\n",
        "X6-X11 (historial de pago): "
      ],
      "metadata": {
        "id": "uoAlIjzt2lTr"
      }
    },
    {
      "cell_type": "markdown",
      "source": [
        "X12 a X17 (Monto del saldo historico de 6 meses):  en notorio que la tendencia central baja con respecto al tiempo, la dispersión es alta para los saldos"
      ],
      "metadata": {
        "id": "71DQINjLl33D"
      }
    },
    {
      "cell_type": "markdown",
      "source": [
        "X18 a X23 (pago historico de 6 meses):  la tendencia central en el pago mensual es constante con gran dispersión"
      ],
      "metadata": {
        "id": "RUaNKsGLpYL3"
      }
    },
    {
      "cell_type": "markdown",
      "source": [
        "X6 al X11 (historial de pagos de 6 meses) al ser categóricas, hago un conteo de los valores en grupos para entender mejor el comportamiento, no muestran cambios importantes a lo largo del tiempo   (este analisis viene del conteo de variables categóricas, abajo)\n",
        "\n"
      ],
      "metadata": {
        "id": "VA_F5VrJC8ID"
      }
    },
    {
      "cell_type": "markdown",
      "source": [
        "## Conteo de variables categóricas"
      ],
      "metadata": {
        "id": "Aahk6EzBGDkj"
      }
    },
    {
      "cell_type": "code",
      "source": [
        "group_names = ['Sin Atrasos', 'Poco Atraso', 'Mucho Atraso']\n",
        "bins = [-2,1,4,8]  \n",
        "dfX6=pd.cut(df.X6, bins, labels=group_names, include_lowest=True )\n",
        "dfX7=pd.cut(df.X7, bins, labels=group_names, include_lowest=True )\n",
        "dfX8=pd.cut(df.X8, bins, labels=group_names, include_lowest=True )\n",
        "dfX9=pd.cut(df.X9, bins, labels=group_names, include_lowest=True )\n",
        "dfX10=pd.cut(df.X10, bins, labels=group_names, include_lowest=True )\n",
        "dfX11=pd.cut(df.X11, bins, labels=group_names, include_lowest=True )\n",
        "\n",
        "\n",
        "print(dfX6.value_counts(sort=True, normalize=True))\n",
        "print(dfX7.value_counts(sort=True, normalize=True))\n",
        "print(dfX8.value_counts(sort=True, normalize=True))\n",
        "print(dfX9.value_counts(sort=True, normalize=True))\n",
        "print(dfX10.value_counts(sort=True, normalize=True))\n",
        "print(dfX11.value_counts(sort=True, normalize=True))\n"
      ],
      "metadata": {
        "colab": {
          "base_uri": "https://localhost:8080/"
        },
        "id": "M-9eQA2v5sWZ",
        "outputId": "392c962c-87c3-4155-d1e0-a0c45dca280c"
      },
      "execution_count": 237,
      "outputs": [
        {
          "output_type": "stream",
          "name": "stdout",
          "text": [
            "Sin Atrasos     0.895687\n",
            "Poco Atraso     0.102143\n",
            "Mucho Atraso    0.002170\n",
            "Name: X6, dtype: float64\n",
            "Sin Atrasos     0.853094\n",
            "Poco Atraso     0.144970\n",
            "Mucho Atraso    0.001936\n",
            "Name: X7, dtype: float64\n",
            "Sin Atrasos     0.859804\n",
            "Poco Atraso     0.137760\n",
            "Mucho Atraso    0.002437\n",
            "Name: X8, dtype: float64\n",
            "Sin Atrasos     0.883136\n",
            "Poco Atraso     0.113559\n",
            "Mucho Atraso    0.003305\n",
            "Name: X9, dtype: float64\n",
            "Sin Atrasos     0.901228\n",
            "Poco Atraso     0.096135\n",
            "Mucho Atraso    0.002637\n",
            "Name: X10, dtype: float64\n",
            "Sin Atrasos     0.897490\n",
            "Poco Atraso     0.099873\n",
            "Mucho Atraso    0.002637\n",
            "Name: X11, dtype: float64\n"
          ]
        }
      ]
    },
    {
      "cell_type": "markdown",
      "source": [
        "Las varables categoricas desctitas en la informacion del encabezado son de X2 a X4.\n",
        "\n"
      ],
      "metadata": {
        "id": "lp81UlXjWkE-"
      }
    },
    {
      "cell_type": "code",
      "source": [
        "genero_dic={1:\"Hombre\", 2:\"Mujer\"}\n",
        "df_categorical=df.iloc[:,2:5].astype('int64')         #Cambio de tipode variable por ser categorica, las separamos porque estas no las vamos a normalizar  \n",
        "df_categorical['X2'].value_counts().rename(index=genero_dic)\n"
      ],
      "metadata": {
        "colab": {
          "base_uri": "https://localhost:8080/"
        },
        "id": "ajVJdutzX7Pz",
        "outputId": "8102e3dc-2cff-437e-d97c-ab9f9e67ab25"
      },
      "execution_count": 238,
      "outputs": [
        {
          "output_type": "execute_result",
          "data": {
            "text/plain": [
              "Mujer     18095\n",
              "Hombre    11863\n",
              "Name: X2, dtype: int64"
            ]
          },
          "metadata": {},
          "execution_count": 238
        }
      ]
    },
    {
      "cell_type": "code",
      "source": [
        "educacion_dic={1:\"graduado\", 2:\"universidad\", 3:\"preparatoria\", 4:\"otro\"}\n",
        "df_categorical['X3'].value_counts().rename(index=educacion_dic)"
      ],
      "metadata": {
        "colab": {
          "base_uri": "https://localhost:8080/"
        },
        "id": "Zs7P9XcasETj",
        "outputId": "b31c1b66-f77b-41d7-d457-3e3b208e6cc1"
      },
      "execution_count": 239,
      "outputs": [
        {
          "output_type": "execute_result",
          "data": {
            "text/plain": [
              "universidad     14009\n",
              "graduado        10572\n",
              "preparatoria     4909\n",
              "5                 280\n",
              "otro              123\n",
              "6                  51\n",
              "0                  14\n",
              "Name: X3, dtype: int64"
            ]
          },
          "metadata": {},
          "execution_count": 239
        }
      ]
    },
    {
      "cell_type": "code",
      "source": [
        "estado_civil_dic={1:\"casado\", 2:\"soltero\", 3:\"otro\"}\n",
        "df_categorical['X4'].value_counts().rename(index=estado_civil_dic)"
      ],
      "metadata": {
        "colab": {
          "base_uri": "https://localhost:8080/"
        },
        "id": "9QRhi3H1tAXu",
        "outputId": "272eef23-5d6b-4718-f8f9-8ce0dd3c99a4"
      },
      "execution_count": 240,
      "outputs": [
        {
          "output_type": "execute_result",
          "data": {
            "text/plain": [
              "soltero    15939\n",
              "casado     13643\n",
              "otro         322\n",
              "0             54\n",
              "Name: X4, dtype: int64"
            ]
          },
          "metadata": {},
          "execution_count": 240
        }
      ]
    },
    {
      "cell_type": "markdown",
      "source": [
        "## Normalizando los datos"
      ],
      "metadata": {
        "id": "IHvio2w6v4Ih"
      }
    },
    {
      "cell_type": "code",
      "source": [
        "scaled = preprocessing.scale(df.drop(['ID','Y'], axis=1))\n",
        "#x_scaled = scaler.fit_transform(df.drop(['ID','Y'], axis=1))   # escala los datos a los que les quitamos la variable de salida y el identificador ID\n",
        "X=pd.DataFrame(scaled , columns=df.drop(['ID','Y'], axis=1).columns)\n",
        "X.head()"
      ],
      "metadata": {
        "colab": {
          "base_uri": "https://localhost:8080/",
          "height": 270
        },
        "id": "rQnBczLwvJPF",
        "outputId": "7f950de1-726b-4e7c-8094-a6ba2182b935"
      },
      "execution_count": 241,
      "outputs": [
        {
          "output_type": "execute_result",
          "data": {
            "text/plain": [
              "         X1        X2        X3        X4        X5        X6        X7  \\\n",
              "0 -1.137363  0.809689  0.185849 -1.057086 -1.246282  1.794642  1.782583   \n",
              "1 -0.366561  0.809689  0.185849  0.858831 -1.029224 -0.874468  1.782583   \n",
              "2 -0.597802  0.809689  0.185849  0.858831 -0.160996  0.015235  0.111950   \n",
              "3 -0.906122  0.809689  0.185849 -1.057086  0.164590  0.015235  0.111950   \n",
              "4 -0.906122 -1.235043  0.185849 -1.057086  2.335161 -0.874468  0.111950   \n",
              "\n",
              "         X8        X9       X10       X11       X12       X13       X14  \\\n",
              "0 -0.696680 -0.666630 -1.530700 -1.486513 -0.642497 -0.647359 -0.667925   \n",
              "1  0.139436  0.189241  0.235635  1.993916 -0.659205 -0.666697 -0.639201   \n",
              "2  0.139436  0.189241  0.235635  0.253701 -0.298738 -0.493940 -0.482436   \n",
              "3  0.139436  0.189241  0.235635  0.253701 -0.057797 -0.013586  0.032552   \n",
              "4 -0.696680  0.189241  0.235635  0.253701 -0.578648 -0.611297 -0.161383   \n",
              "\n",
              "        X15       X16       X17       X18       X19       X20       X21  \\\n",
              "0 -0.672419 -0.663031 -0.652714 -0.341890 -0.227134 -0.296782 -0.308107   \n",
              "1 -0.621583 -0.606229 -0.597982 -0.341890 -0.213645 -0.240019 -0.244315   \n",
              "2 -0.449762 -0.417277 -0.391745 -0.250270 -0.191958 -0.240019 -0.244315   \n",
              "3 -0.232512 -0.186929 -0.156808 -0.221179 -0.169448 -0.228667 -0.237936   \n",
              "4 -0.347080 -0.348260 -0.331626 -0.221179  1.333962  0.270850  0.266021   \n",
              "\n",
              "        X22       X23  \n",
              "0 -0.314124 -0.293485  \n",
              "1 -0.314124 -0.181054  \n",
              "2 -0.248702 -0.012407  \n",
              "3 -0.244188 -0.237269  \n",
              "4 -0.269048 -0.255314  "
            ],
            "text/html": [
              "\n",
              "  <div id=\"df-666224a8-a394-4ad2-bbb9-76906caaa702\">\n",
              "    <div class=\"colab-df-container\">\n",
              "      <div>\n",
              "<style scoped>\n",
              "    .dataframe tbody tr th:only-of-type {\n",
              "        vertical-align: middle;\n",
              "    }\n",
              "\n",
              "    .dataframe tbody tr th {\n",
              "        vertical-align: top;\n",
              "    }\n",
              "\n",
              "    .dataframe thead th {\n",
              "        text-align: right;\n",
              "    }\n",
              "</style>\n",
              "<table border=\"1\" class=\"dataframe\">\n",
              "  <thead>\n",
              "    <tr style=\"text-align: right;\">\n",
              "      <th></th>\n",
              "      <th>X1</th>\n",
              "      <th>X2</th>\n",
              "      <th>X3</th>\n",
              "      <th>X4</th>\n",
              "      <th>X5</th>\n",
              "      <th>X6</th>\n",
              "      <th>X7</th>\n",
              "      <th>X8</th>\n",
              "      <th>X9</th>\n",
              "      <th>X10</th>\n",
              "      <th>X11</th>\n",
              "      <th>X12</th>\n",
              "      <th>X13</th>\n",
              "      <th>X14</th>\n",
              "      <th>X15</th>\n",
              "      <th>X16</th>\n",
              "      <th>X17</th>\n",
              "      <th>X18</th>\n",
              "      <th>X19</th>\n",
              "      <th>X20</th>\n",
              "      <th>X21</th>\n",
              "      <th>X22</th>\n",
              "      <th>X23</th>\n",
              "    </tr>\n",
              "  </thead>\n",
              "  <tbody>\n",
              "    <tr>\n",
              "      <th>0</th>\n",
              "      <td>-1.137363</td>\n",
              "      <td>0.809689</td>\n",
              "      <td>0.185849</td>\n",
              "      <td>-1.057086</td>\n",
              "      <td>-1.246282</td>\n",
              "      <td>1.794642</td>\n",
              "      <td>1.782583</td>\n",
              "      <td>-0.696680</td>\n",
              "      <td>-0.666630</td>\n",
              "      <td>-1.530700</td>\n",
              "      <td>-1.486513</td>\n",
              "      <td>-0.642497</td>\n",
              "      <td>-0.647359</td>\n",
              "      <td>-0.667925</td>\n",
              "      <td>-0.672419</td>\n",
              "      <td>-0.663031</td>\n",
              "      <td>-0.652714</td>\n",
              "      <td>-0.341890</td>\n",
              "      <td>-0.227134</td>\n",
              "      <td>-0.296782</td>\n",
              "      <td>-0.308107</td>\n",
              "      <td>-0.314124</td>\n",
              "      <td>-0.293485</td>\n",
              "    </tr>\n",
              "    <tr>\n",
              "      <th>1</th>\n",
              "      <td>-0.366561</td>\n",
              "      <td>0.809689</td>\n",
              "      <td>0.185849</td>\n",
              "      <td>0.858831</td>\n",
              "      <td>-1.029224</td>\n",
              "      <td>-0.874468</td>\n",
              "      <td>1.782583</td>\n",
              "      <td>0.139436</td>\n",
              "      <td>0.189241</td>\n",
              "      <td>0.235635</td>\n",
              "      <td>1.993916</td>\n",
              "      <td>-0.659205</td>\n",
              "      <td>-0.666697</td>\n",
              "      <td>-0.639201</td>\n",
              "      <td>-0.621583</td>\n",
              "      <td>-0.606229</td>\n",
              "      <td>-0.597982</td>\n",
              "      <td>-0.341890</td>\n",
              "      <td>-0.213645</td>\n",
              "      <td>-0.240019</td>\n",
              "      <td>-0.244315</td>\n",
              "      <td>-0.314124</td>\n",
              "      <td>-0.181054</td>\n",
              "    </tr>\n",
              "    <tr>\n",
              "      <th>2</th>\n",
              "      <td>-0.597802</td>\n",
              "      <td>0.809689</td>\n",
              "      <td>0.185849</td>\n",
              "      <td>0.858831</td>\n",
              "      <td>-0.160996</td>\n",
              "      <td>0.015235</td>\n",
              "      <td>0.111950</td>\n",
              "      <td>0.139436</td>\n",
              "      <td>0.189241</td>\n",
              "      <td>0.235635</td>\n",
              "      <td>0.253701</td>\n",
              "      <td>-0.298738</td>\n",
              "      <td>-0.493940</td>\n",
              "      <td>-0.482436</td>\n",
              "      <td>-0.449762</td>\n",
              "      <td>-0.417277</td>\n",
              "      <td>-0.391745</td>\n",
              "      <td>-0.250270</td>\n",
              "      <td>-0.191958</td>\n",
              "      <td>-0.240019</td>\n",
              "      <td>-0.244315</td>\n",
              "      <td>-0.248702</td>\n",
              "      <td>-0.012407</td>\n",
              "    </tr>\n",
              "    <tr>\n",
              "      <th>3</th>\n",
              "      <td>-0.906122</td>\n",
              "      <td>0.809689</td>\n",
              "      <td>0.185849</td>\n",
              "      <td>-1.057086</td>\n",
              "      <td>0.164590</td>\n",
              "      <td>0.015235</td>\n",
              "      <td>0.111950</td>\n",
              "      <td>0.139436</td>\n",
              "      <td>0.189241</td>\n",
              "      <td>0.235635</td>\n",
              "      <td>0.253701</td>\n",
              "      <td>-0.057797</td>\n",
              "      <td>-0.013586</td>\n",
              "      <td>0.032552</td>\n",
              "      <td>-0.232512</td>\n",
              "      <td>-0.186929</td>\n",
              "      <td>-0.156808</td>\n",
              "      <td>-0.221179</td>\n",
              "      <td>-0.169448</td>\n",
              "      <td>-0.228667</td>\n",
              "      <td>-0.237936</td>\n",
              "      <td>-0.244188</td>\n",
              "      <td>-0.237269</td>\n",
              "    </tr>\n",
              "    <tr>\n",
              "      <th>4</th>\n",
              "      <td>-0.906122</td>\n",
              "      <td>-1.235043</td>\n",
              "      <td>0.185849</td>\n",
              "      <td>-1.057086</td>\n",
              "      <td>2.335161</td>\n",
              "      <td>-0.874468</td>\n",
              "      <td>0.111950</td>\n",
              "      <td>-0.696680</td>\n",
              "      <td>0.189241</td>\n",
              "      <td>0.235635</td>\n",
              "      <td>0.253701</td>\n",
              "      <td>-0.578648</td>\n",
              "      <td>-0.611297</td>\n",
              "      <td>-0.161383</td>\n",
              "      <td>-0.347080</td>\n",
              "      <td>-0.348260</td>\n",
              "      <td>-0.331626</td>\n",
              "      <td>-0.221179</td>\n",
              "      <td>1.333962</td>\n",
              "      <td>0.270850</td>\n",
              "      <td>0.266021</td>\n",
              "      <td>-0.269048</td>\n",
              "      <td>-0.255314</td>\n",
              "    </tr>\n",
              "  </tbody>\n",
              "</table>\n",
              "</div>\n",
              "      <button class=\"colab-df-convert\" onclick=\"convertToInteractive('df-666224a8-a394-4ad2-bbb9-76906caaa702')\"\n",
              "              title=\"Convert this dataframe to an interactive table.\"\n",
              "              style=\"display:none;\">\n",
              "        \n",
              "  <svg xmlns=\"http://www.w3.org/2000/svg\" height=\"24px\"viewBox=\"0 0 24 24\"\n",
              "       width=\"24px\">\n",
              "    <path d=\"M0 0h24v24H0V0z\" fill=\"none\"/>\n",
              "    <path d=\"M18.56 5.44l.94 2.06.94-2.06 2.06-.94-2.06-.94-.94-2.06-.94 2.06-2.06.94zm-11 1L8.5 8.5l.94-2.06 2.06-.94-2.06-.94L8.5 2.5l-.94 2.06-2.06.94zm10 10l.94 2.06.94-2.06 2.06-.94-2.06-.94-.94-2.06-.94 2.06-2.06.94z\"/><path d=\"M17.41 7.96l-1.37-1.37c-.4-.4-.92-.59-1.43-.59-.52 0-1.04.2-1.43.59L10.3 9.45l-7.72 7.72c-.78.78-.78 2.05 0 2.83L4 21.41c.39.39.9.59 1.41.59.51 0 1.02-.2 1.41-.59l7.78-7.78 2.81-2.81c.8-.78.8-2.07 0-2.86zM5.41 20L4 18.59l7.72-7.72 1.47 1.35L5.41 20z\"/>\n",
              "  </svg>\n",
              "      </button>\n",
              "      \n",
              "  <style>\n",
              "    .colab-df-container {\n",
              "      display:flex;\n",
              "      flex-wrap:wrap;\n",
              "      gap: 12px;\n",
              "    }\n",
              "\n",
              "    .colab-df-convert {\n",
              "      background-color: #E8F0FE;\n",
              "      border: none;\n",
              "      border-radius: 50%;\n",
              "      cursor: pointer;\n",
              "      display: none;\n",
              "      fill: #1967D2;\n",
              "      height: 32px;\n",
              "      padding: 0 0 0 0;\n",
              "      width: 32px;\n",
              "    }\n",
              "\n",
              "    .colab-df-convert:hover {\n",
              "      background-color: #E2EBFA;\n",
              "      box-shadow: 0px 1px 2px rgba(60, 64, 67, 0.3), 0px 1px 3px 1px rgba(60, 64, 67, 0.15);\n",
              "      fill: #174EA6;\n",
              "    }\n",
              "\n",
              "    [theme=dark] .colab-df-convert {\n",
              "      background-color: #3B4455;\n",
              "      fill: #D2E3FC;\n",
              "    }\n",
              "\n",
              "    [theme=dark] .colab-df-convert:hover {\n",
              "      background-color: #434B5C;\n",
              "      box-shadow: 0px 1px 3px 1px rgba(0, 0, 0, 0.15);\n",
              "      filter: drop-shadow(0px 1px 2px rgba(0, 0, 0, 0.3));\n",
              "      fill: #FFFFFF;\n",
              "    }\n",
              "  </style>\n",
              "\n",
              "      <script>\n",
              "        const buttonEl =\n",
              "          document.querySelector('#df-666224a8-a394-4ad2-bbb9-76906caaa702 button.colab-df-convert');\n",
              "        buttonEl.style.display =\n",
              "          google.colab.kernel.accessAllowed ? 'block' : 'none';\n",
              "\n",
              "        async function convertToInteractive(key) {\n",
              "          const element = document.querySelector('#df-666224a8-a394-4ad2-bbb9-76906caaa702');\n",
              "          const dataTable =\n",
              "            await google.colab.kernel.invokeFunction('convertToInteractive',\n",
              "                                                     [key], {});\n",
              "          if (!dataTable) return;\n",
              "\n",
              "          const docLinkHtml = 'Like what you see? Visit the ' +\n",
              "            '<a target=\"_blank\" href=https://colab.research.google.com/notebooks/data_table.ipynb>data table notebook</a>'\n",
              "            + ' to learn more about interactive tables.';\n",
              "          element.innerHTML = '';\n",
              "          dataTable['output_type'] = 'display_data';\n",
              "          await google.colab.output.renderOutput(dataTable, element);\n",
              "          const docLink = document.createElement('div');\n",
              "          docLink.innerHTML = docLinkHtml;\n",
              "          element.appendChild(docLink);\n",
              "        }\n",
              "      </script>\n",
              "    </div>\n",
              "  </div>\n",
              "  "
            ]
          },
          "metadata": {},
          "execution_count": 241
        }
      ]
    },
    {
      "cell_type": "markdown",
      "source": [
        "## Reduciendo las dimensiones"
      ],
      "metadata": {
        "id": "aWr6iSaCwE_j"
      }
    },
    {
      "cell_type": "markdown",
      "source": [
        "### Indica la varianza de los datos explicada por cada componente seleccionado. Para actividades de exploración de los datos la varianza > 70%"
      ],
      "metadata": {
        "id": "Fa94x4ts2tJG"
      }
    },
    {
      "cell_type": "code",
      "source": [
        "plt.style.use('ggplot')\n",
        "# Z-score the features\n",
        "scaler = preprocessing.StandardScaler()\n",
        "scaler.fit(X)\n",
        "X = scaler.transform(X)\n",
        "# The PCA model\n",
        "pca = PCA() # estimate only 2 PCs\n",
        "X_new = pca.fit_transform(X) # project the original data into the PCA space"
      ],
      "metadata": {
        "id": "hwx7eH2vv_r9"
      },
      "execution_count": 242,
      "outputs": []
    },
    {
      "cell_type": "code",
      "source": [
        "X.shape"
      ],
      "metadata": {
        "colab": {
          "base_uri": "https://localhost:8080/"
        },
        "id": "EO38_bBi4eNG",
        "outputId": "b78aeae4-ba0e-47e4-fd33-44d562d1b46c"
      },
      "execution_count": 243,
      "outputs": [
        {
          "output_type": "execute_result",
          "data": {
            "text/plain": [
              "(29958, 23)"
            ]
          },
          "metadata": {},
          "execution_count": 243
        }
      ]
    },
    {
      "cell_type": "code",
      "source": [
        "pesos_pca=pd.DataFrame(pca.explained_variance_ratio_*100).T\n",
        "pesos_pca.columns=[f'PC{i + 1}' for i in range(X.shape[1])]\n",
        "print('En porcentaje %')\n",
        "pesos_pca\n"
      ],
      "metadata": {
        "colab": {
          "base_uri": "https://localhost:8080/",
          "height": 162
        },
        "id": "RJ7_2wOrxiBX",
        "outputId": "fef8a8a3-81bc-4af5-9b8f-cf0ffb4d577d"
      },
      "execution_count": 244,
      "outputs": [
        {
          "output_type": "stream",
          "name": "stdout",
          "text": [
            "En porcentaje %\n"
          ]
        },
        {
          "output_type": "execute_result",
          "data": {
            "text/plain": [
              "         PC1        PC2       PC3       PC4       PC5       PC6      PC7  \\\n",
              "0  28.450627  17.816393  6.743106  6.398484  4.459814  4.161107  3.94719   \n",
              "\n",
              "        PC8       PC9      PC10      PC11      PC12      PC13      PC14  \\\n",
              "0  3.859698  3.788275  3.404411  3.185979  2.965872  2.482428  2.280866   \n",
              "\n",
              "       PC15      PC16     PC17     PC18      PC19     PC20      PC21  \\\n",
              "0  1.755079  1.129526  1.08342  0.82097  0.573511  0.30499  0.177337   \n",
              "\n",
              "       PC22      PC23  \n",
              "0  0.109951  0.100963  "
            ],
            "text/html": [
              "\n",
              "  <div id=\"df-02c779e8-7ce8-42d7-8144-63a2010c6c7a\">\n",
              "    <div class=\"colab-df-container\">\n",
              "      <div>\n",
              "<style scoped>\n",
              "    .dataframe tbody tr th:only-of-type {\n",
              "        vertical-align: middle;\n",
              "    }\n",
              "\n",
              "    .dataframe tbody tr th {\n",
              "        vertical-align: top;\n",
              "    }\n",
              "\n",
              "    .dataframe thead th {\n",
              "        text-align: right;\n",
              "    }\n",
              "</style>\n",
              "<table border=\"1\" class=\"dataframe\">\n",
              "  <thead>\n",
              "    <tr style=\"text-align: right;\">\n",
              "      <th></th>\n",
              "      <th>PC1</th>\n",
              "      <th>PC2</th>\n",
              "      <th>PC3</th>\n",
              "      <th>PC4</th>\n",
              "      <th>PC5</th>\n",
              "      <th>PC6</th>\n",
              "      <th>PC7</th>\n",
              "      <th>PC8</th>\n",
              "      <th>PC9</th>\n",
              "      <th>PC10</th>\n",
              "      <th>PC11</th>\n",
              "      <th>PC12</th>\n",
              "      <th>PC13</th>\n",
              "      <th>PC14</th>\n",
              "      <th>PC15</th>\n",
              "      <th>PC16</th>\n",
              "      <th>PC17</th>\n",
              "      <th>PC18</th>\n",
              "      <th>PC19</th>\n",
              "      <th>PC20</th>\n",
              "      <th>PC21</th>\n",
              "      <th>PC22</th>\n",
              "      <th>PC23</th>\n",
              "    </tr>\n",
              "  </thead>\n",
              "  <tbody>\n",
              "    <tr>\n",
              "      <th>0</th>\n",
              "      <td>28.450627</td>\n",
              "      <td>17.816393</td>\n",
              "      <td>6.743106</td>\n",
              "      <td>6.398484</td>\n",
              "      <td>4.459814</td>\n",
              "      <td>4.161107</td>\n",
              "      <td>3.94719</td>\n",
              "      <td>3.859698</td>\n",
              "      <td>3.788275</td>\n",
              "      <td>3.404411</td>\n",
              "      <td>3.185979</td>\n",
              "      <td>2.965872</td>\n",
              "      <td>2.482428</td>\n",
              "      <td>2.280866</td>\n",
              "      <td>1.755079</td>\n",
              "      <td>1.129526</td>\n",
              "      <td>1.08342</td>\n",
              "      <td>0.82097</td>\n",
              "      <td>0.573511</td>\n",
              "      <td>0.30499</td>\n",
              "      <td>0.177337</td>\n",
              "      <td>0.109951</td>\n",
              "      <td>0.100963</td>\n",
              "    </tr>\n",
              "  </tbody>\n",
              "</table>\n",
              "</div>\n",
              "      <button class=\"colab-df-convert\" onclick=\"convertToInteractive('df-02c779e8-7ce8-42d7-8144-63a2010c6c7a')\"\n",
              "              title=\"Convert this dataframe to an interactive table.\"\n",
              "              style=\"display:none;\">\n",
              "        \n",
              "  <svg xmlns=\"http://www.w3.org/2000/svg\" height=\"24px\"viewBox=\"0 0 24 24\"\n",
              "       width=\"24px\">\n",
              "    <path d=\"M0 0h24v24H0V0z\" fill=\"none\"/>\n",
              "    <path d=\"M18.56 5.44l.94 2.06.94-2.06 2.06-.94-2.06-.94-.94-2.06-.94 2.06-2.06.94zm-11 1L8.5 8.5l.94-2.06 2.06-.94-2.06-.94L8.5 2.5l-.94 2.06-2.06.94zm10 10l.94 2.06.94-2.06 2.06-.94-2.06-.94-.94-2.06-.94 2.06-2.06.94z\"/><path d=\"M17.41 7.96l-1.37-1.37c-.4-.4-.92-.59-1.43-.59-.52 0-1.04.2-1.43.59L10.3 9.45l-7.72 7.72c-.78.78-.78 2.05 0 2.83L4 21.41c.39.39.9.59 1.41.59.51 0 1.02-.2 1.41-.59l7.78-7.78 2.81-2.81c.8-.78.8-2.07 0-2.86zM5.41 20L4 18.59l7.72-7.72 1.47 1.35L5.41 20z\"/>\n",
              "  </svg>\n",
              "      </button>\n",
              "      \n",
              "  <style>\n",
              "    .colab-df-container {\n",
              "      display:flex;\n",
              "      flex-wrap:wrap;\n",
              "      gap: 12px;\n",
              "    }\n",
              "\n",
              "    .colab-df-convert {\n",
              "      background-color: #E8F0FE;\n",
              "      border: none;\n",
              "      border-radius: 50%;\n",
              "      cursor: pointer;\n",
              "      display: none;\n",
              "      fill: #1967D2;\n",
              "      height: 32px;\n",
              "      padding: 0 0 0 0;\n",
              "      width: 32px;\n",
              "    }\n",
              "\n",
              "    .colab-df-convert:hover {\n",
              "      background-color: #E2EBFA;\n",
              "      box-shadow: 0px 1px 2px rgba(60, 64, 67, 0.3), 0px 1px 3px 1px rgba(60, 64, 67, 0.15);\n",
              "      fill: #174EA6;\n",
              "    }\n",
              "\n",
              "    [theme=dark] .colab-df-convert {\n",
              "      background-color: #3B4455;\n",
              "      fill: #D2E3FC;\n",
              "    }\n",
              "\n",
              "    [theme=dark] .colab-df-convert:hover {\n",
              "      background-color: #434B5C;\n",
              "      box-shadow: 0px 1px 3px 1px rgba(0, 0, 0, 0.15);\n",
              "      filter: drop-shadow(0px 1px 2px rgba(0, 0, 0, 0.3));\n",
              "      fill: #FFFFFF;\n",
              "    }\n",
              "  </style>\n",
              "\n",
              "      <script>\n",
              "        const buttonEl =\n",
              "          document.querySelector('#df-02c779e8-7ce8-42d7-8144-63a2010c6c7a button.colab-df-convert');\n",
              "        buttonEl.style.display =\n",
              "          google.colab.kernel.accessAllowed ? 'block' : 'none';\n",
              "\n",
              "        async function convertToInteractive(key) {\n",
              "          const element = document.querySelector('#df-02c779e8-7ce8-42d7-8144-63a2010c6c7a');\n",
              "          const dataTable =\n",
              "            await google.colab.kernel.invokeFunction('convertToInteractive',\n",
              "                                                     [key], {});\n",
              "          if (!dataTable) return;\n",
              "\n",
              "          const docLinkHtml = 'Like what you see? Visit the ' +\n",
              "            '<a target=\"_blank\" href=https://colab.research.google.com/notebooks/data_table.ipynb>data table notebook</a>'\n",
              "            + ' to learn more about interactive tables.';\n",
              "          element.innerHTML = '';\n",
              "          dataTable['output_type'] = 'display_data';\n",
              "          await google.colab.output.renderOutput(dataTable, element);\n",
              "          const docLink = document.createElement('div');\n",
              "          docLink.innerHTML = docLinkHtml;\n",
              "          element.appendChild(docLink);\n",
              "        }\n",
              "      </script>\n",
              "    </div>\n",
              "  </div>\n",
              "  "
            ]
          },
          "metadata": {},
          "execution_count": 244
        }
      ]
    },
    {
      "cell_type": "markdown",
      "source": [
        "**A partir de la componente 7 obtenemos mas del 70%**"
      ],
      "metadata": {
        "id": "YafOmBgkGDgj"
      }
    },
    {
      "cell_type": "markdown",
      "source": [
        "## Visualización"
      ],
      "metadata": {
        "id": "PGLymnaX_GYW"
      }
    },
    {
      "cell_type": "code",
      "source": [
        "fig, axes = plt.subplots(1,2)\n",
        "axes[0].scatter(X[:,0], X[:,1])\n",
        "axes[0].set_xlabel('x1')\n",
        "axes[0].set_ylabel('x2')\n",
        "axes[0].set_title('Before PCA')\n",
        "axes[1].scatter(X_new[:,0], X_new[:,1])\n",
        "axes[1].set_xlabel('PC1')\n",
        "axes[1].set_ylabel('PC2')\n",
        "axes[1].set_title('After PCA')\n",
        "plt.show()"
      ],
      "metadata": {
        "colab": {
          "base_uri": "https://localhost:8080/",
          "height": 305
        },
        "id": "Id-EgENovO6g",
        "outputId": "36f5f6f2-01b2-42ad-8768-2eea2c5c4746"
      },
      "execution_count": 245,
      "outputs": [
        {
          "output_type": "display_data",
          "data": {
            "text/plain": [
              "<Figure size 432x288 with 2 Axes>"
            ],
            "image/png": "[encoded data removed]"
          },
          "metadata": {}
        }
      ]
    },
    {
      "cell_type": "code",
      "source": [
        "PC_components = np.arange(pca.n_components_) + 1\n",
        "#PC_components\n",
        "\n",
        "_ = sns.set(style = 'whitegrid', \n",
        "            font_scale = 1.2\n",
        "            )\n",
        "\n",
        "fig, ax = plt.subplots(figsize=(10, 7))\n",
        "\n",
        "_ = sns.barplot(x = PC_components, \n",
        "                y = pca.explained_variance_ratio_, \n",
        "                color = 'b'\n",
        "                )\n",
        "\n",
        "_ = sns.lineplot(x = PC_components-1, \n",
        "                 y = np.cumsum(pca.explained_variance_ratio_), \n",
        "                 color = 'black', \n",
        "                 linestyle = '-', \n",
        "                 linewidth = 2, \n",
        "                 marker = 'o', \n",
        "                 markersize = 8\n",
        "                 )\n",
        "\n",
        "plt.title('Suma de varianzas de las componentes')\n",
        "plt.xlabel('Componentes')\n",
        "plt.ylabel('Varianza ')\n",
        "plt.ylim(0, 1)\n",
        "plt.show()"
      ],
      "metadata": {
        "colab": {
          "base_uri": "https://localhost:8080/",
          "height": 469
        },
        "id": "d8-u0ZwP88Db",
        "outputId": "cddc96b6-f16f-4352-e4a2-3aa1c151c7be"
      },
      "execution_count": 246,
      "outputs": [
        {
          "output_type": "display_data",
          "data": {
            "text/plain": [
              "<Figure size 720x504 with 1 Axes>"
            ],
            "image/png": "[encoded data removed]"
          },
          "metadata": {}
        }
      ]
    },
    {
      "cell_type": "markdown",
      "source": [
        "## Histogramas"
      ],
      "metadata": {
        "id": "Zkg3ER0CGDAY"
      }
    },
    {
      "cell_type": "code",
      "source": [],
      "metadata": {
        "id": "FwfL7DBkBcng"
      },
      "execution_count": null,
      "outputs": []
    },
    {
      "cell_type": "markdown",
      "source": [
        "## Interpretación"
      ],
      "metadata": {
        "id": "kv8QsZTzBdXc"
      }
    }
  ]
}